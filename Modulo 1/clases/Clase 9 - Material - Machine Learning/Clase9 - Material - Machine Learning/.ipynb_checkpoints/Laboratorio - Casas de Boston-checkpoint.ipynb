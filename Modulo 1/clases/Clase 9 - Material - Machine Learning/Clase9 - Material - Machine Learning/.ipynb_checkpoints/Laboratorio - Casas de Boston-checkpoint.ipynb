{
 "cells": [
  {
   "cell_type": "code",
   "execution_count": 1,
   "metadata": {},
   "outputs": [],
   "source": [
    "import pandas as pd\n",
    "import numpy as np\n",
    "import matplotlib.pyplot as plt\n",
    "import seaborn as sns"
   ]
  },
  {
   "cell_type": "code",
   "execution_count": 2,
   "metadata": {},
   "outputs": [],
   "source": [
    "casas = pd.read_csv(\"USA-Housing.csv\")"
   ]
  },
  {
   "cell_type": "code",
   "execution_count": 3,
   "metadata": {},
   "outputs": [
    {
     "data": {
      "text/html": [
       "<div>\n",
       "<style scoped>\n",
       "    .dataframe tbody tr th:only-of-type {\n",
       "        vertical-align: middle;\n",
       "    }\n",
       "\n",
       "    .dataframe tbody tr th {\n",
       "        vertical-align: top;\n",
       "    }\n",
       "\n",
       "    .dataframe thead th {\n",
       "        text-align: right;\n",
       "    }\n",
       "</style>\n",
       "<table border=\"1\" class=\"dataframe\">\n",
       "  <thead>\n",
       "    <tr style=\"text-align: right;\">\n",
       "      <th></th>\n",
       "      <th>Avg. Area Income</th>\n",
       "      <th>Avg. Area House Age</th>\n",
       "      <th>Avg. Area Number of Rooms</th>\n",
       "      <th>Avg. Area Number of Bedrooms</th>\n",
       "      <th>Area Population</th>\n",
       "      <th>Price</th>\n",
       "      <th>Address</th>\n",
       "    </tr>\n",
       "  </thead>\n",
       "  <tbody>\n",
       "    <tr>\n",
       "      <th>0</th>\n",
       "      <td>79545.458574</td>\n",
       "      <td>5.682861</td>\n",
       "      <td>7.009188</td>\n",
       "      <td>4.09</td>\n",
       "      <td>23086.800503</td>\n",
       "      <td>1.059034e+06</td>\n",
       "      <td>208 Michael Ferry Apt. 674\\nLaurabury, NE 3701...</td>\n",
       "    </tr>\n",
       "    <tr>\n",
       "      <th>1</th>\n",
       "      <td>79248.642455</td>\n",
       "      <td>6.002900</td>\n",
       "      <td>6.730821</td>\n",
       "      <td>3.09</td>\n",
       "      <td>40173.072174</td>\n",
       "      <td>1.505891e+06</td>\n",
       "      <td>188 Johnson Views Suite 079\\nLake Kathleen, CA...</td>\n",
       "    </tr>\n",
       "    <tr>\n",
       "      <th>2</th>\n",
       "      <td>61287.067179</td>\n",
       "      <td>5.865890</td>\n",
       "      <td>8.512727</td>\n",
       "      <td>5.13</td>\n",
       "      <td>36882.159400</td>\n",
       "      <td>1.058988e+06</td>\n",
       "      <td>9127 Elizabeth Stravenue\\nDanieltown, WI 06482...</td>\n",
       "    </tr>\n",
       "    <tr>\n",
       "      <th>3</th>\n",
       "      <td>63345.240046</td>\n",
       "      <td>7.188236</td>\n",
       "      <td>5.586729</td>\n",
       "      <td>3.26</td>\n",
       "      <td>34310.242831</td>\n",
       "      <td>1.260617e+06</td>\n",
       "      <td>USS Barnett\\nFPO AP 44820</td>\n",
       "    </tr>\n",
       "    <tr>\n",
       "      <th>4</th>\n",
       "      <td>59982.197226</td>\n",
       "      <td>5.040555</td>\n",
       "      <td>7.839388</td>\n",
       "      <td>4.23</td>\n",
       "      <td>26354.109472</td>\n",
       "      <td>6.309435e+05</td>\n",
       "      <td>USNS Raymond\\nFPO AE 09386</td>\n",
       "    </tr>\n",
       "  </tbody>\n",
       "</table>\n",
       "</div>"
      ],
      "text/plain": [
       "   Avg. Area Income  Avg. Area House Age  Avg. Area Number of Rooms  \\\n",
       "0      79545.458574             5.682861                   7.009188   \n",
       "1      79248.642455             6.002900                   6.730821   \n",
       "2      61287.067179             5.865890                   8.512727   \n",
       "3      63345.240046             7.188236                   5.586729   \n",
       "4      59982.197226             5.040555                   7.839388   \n",
       "\n",
       "   Avg. Area Number of Bedrooms  Area Population         Price  \\\n",
       "0                          4.09     23086.800503  1.059034e+06   \n",
       "1                          3.09     40173.072174  1.505891e+06   \n",
       "2                          5.13     36882.159400  1.058988e+06   \n",
       "3                          3.26     34310.242831  1.260617e+06   \n",
       "4                          4.23     26354.109472  6.309435e+05   \n",
       "\n",
       "                                             Address  \n",
       "0  208 Michael Ferry Apt. 674\\nLaurabury, NE 3701...  \n",
       "1  188 Johnson Views Suite 079\\nLake Kathleen, CA...  \n",
       "2  9127 Elizabeth Stravenue\\nDanieltown, WI 06482...  \n",
       "3                          USS Barnett\\nFPO AP 44820  \n",
       "4                         USNS Raymond\\nFPO AE 09386  "
      ]
     },
     "execution_count": 3,
     "metadata": {},
     "output_type": "execute_result"
    }
   ],
   "source": [
    "casas.head()"
   ]
  },
  {
   "cell_type": "code",
   "execution_count": 4,
   "metadata": {},
   "outputs": [
    {
     "name": "stdout",
     "output_type": "stream",
     "text": [
      "<class 'pandas.core.frame.DataFrame'>\n",
      "RangeIndex: 5000 entries, 0 to 4999\n",
      "Data columns (total 7 columns):\n",
      " #   Column                        Non-Null Count  Dtype  \n",
      "---  ------                        --------------  -----  \n",
      " 0   Avg. Area Income              5000 non-null   float64\n",
      " 1   Avg. Area House Age           5000 non-null   float64\n",
      " 2   Avg. Area Number of Rooms     5000 non-null   float64\n",
      " 3   Avg. Area Number of Bedrooms  5000 non-null   float64\n",
      " 4   Area Population               5000 non-null   float64\n",
      " 5   Price                         5000 non-null   float64\n",
      " 6   Address                       5000 non-null   object \n",
      "dtypes: float64(6), object(1)\n",
      "memory usage: 273.6+ KB\n"
     ]
    }
   ],
   "source": [
    "casas.info()"
   ]
  },
  {
   "cell_type": "code",
   "execution_count": 5,
   "metadata": {},
   "outputs": [
    {
     "data": {
      "text/html": [
       "<div>\n",
       "<style scoped>\n",
       "    .dataframe tbody tr th:only-of-type {\n",
       "        vertical-align: middle;\n",
       "    }\n",
       "\n",
       "    .dataframe tbody tr th {\n",
       "        vertical-align: top;\n",
       "    }\n",
       "\n",
       "    .dataframe thead th {\n",
       "        text-align: right;\n",
       "    }\n",
       "</style>\n",
       "<table border=\"1\" class=\"dataframe\">\n",
       "  <thead>\n",
       "    <tr style=\"text-align: right;\">\n",
       "      <th></th>\n",
       "      <th>Avg. Area Income</th>\n",
       "      <th>Avg. Area House Age</th>\n",
       "      <th>Avg. Area Number of Rooms</th>\n",
       "      <th>Avg. Area Number of Bedrooms</th>\n",
       "      <th>Area Population</th>\n",
       "      <th>Price</th>\n",
       "    </tr>\n",
       "  </thead>\n",
       "  <tbody>\n",
       "    <tr>\n",
       "      <th>count</th>\n",
       "      <td>5000.000000</td>\n",
       "      <td>5000.000000</td>\n",
       "      <td>5000.000000</td>\n",
       "      <td>5000.000000</td>\n",
       "      <td>5000.000000</td>\n",
       "      <td>5.000000e+03</td>\n",
       "    </tr>\n",
       "    <tr>\n",
       "      <th>mean</th>\n",
       "      <td>68583.108984</td>\n",
       "      <td>5.977222</td>\n",
       "      <td>6.987792</td>\n",
       "      <td>3.981330</td>\n",
       "      <td>36163.516039</td>\n",
       "      <td>1.232073e+06</td>\n",
       "    </tr>\n",
       "    <tr>\n",
       "      <th>std</th>\n",
       "      <td>10657.991214</td>\n",
       "      <td>0.991456</td>\n",
       "      <td>1.005833</td>\n",
       "      <td>1.234137</td>\n",
       "      <td>9925.650114</td>\n",
       "      <td>3.531176e+05</td>\n",
       "    </tr>\n",
       "    <tr>\n",
       "      <th>min</th>\n",
       "      <td>17796.631190</td>\n",
       "      <td>2.644304</td>\n",
       "      <td>3.236194</td>\n",
       "      <td>2.000000</td>\n",
       "      <td>172.610686</td>\n",
       "      <td>1.593866e+04</td>\n",
       "    </tr>\n",
       "    <tr>\n",
       "      <th>25%</th>\n",
       "      <td>61480.562388</td>\n",
       "      <td>5.322283</td>\n",
       "      <td>6.299250</td>\n",
       "      <td>3.140000</td>\n",
       "      <td>29403.928702</td>\n",
       "      <td>9.975771e+05</td>\n",
       "    </tr>\n",
       "    <tr>\n",
       "      <th>50%</th>\n",
       "      <td>68804.286404</td>\n",
       "      <td>5.970429</td>\n",
       "      <td>7.002902</td>\n",
       "      <td>4.050000</td>\n",
       "      <td>36199.406689</td>\n",
       "      <td>1.232669e+06</td>\n",
       "    </tr>\n",
       "    <tr>\n",
       "      <th>75%</th>\n",
       "      <td>75783.338666</td>\n",
       "      <td>6.650808</td>\n",
       "      <td>7.665871</td>\n",
       "      <td>4.490000</td>\n",
       "      <td>42861.290769</td>\n",
       "      <td>1.471210e+06</td>\n",
       "    </tr>\n",
       "    <tr>\n",
       "      <th>max</th>\n",
       "      <td>107701.748378</td>\n",
       "      <td>9.519088</td>\n",
       "      <td>10.759588</td>\n",
       "      <td>6.500000</td>\n",
       "      <td>69621.713378</td>\n",
       "      <td>2.469066e+06</td>\n",
       "    </tr>\n",
       "  </tbody>\n",
       "</table>\n",
       "</div>"
      ],
      "text/plain": [
       "       Avg. Area Income  Avg. Area House Age  Avg. Area Number of Rooms  \\\n",
       "count       5000.000000          5000.000000                5000.000000   \n",
       "mean       68583.108984             5.977222                   6.987792   \n",
       "std        10657.991214             0.991456                   1.005833   \n",
       "min        17796.631190             2.644304                   3.236194   \n",
       "25%        61480.562388             5.322283                   6.299250   \n",
       "50%        68804.286404             5.970429                   7.002902   \n",
       "75%        75783.338666             6.650808                   7.665871   \n",
       "max       107701.748378             9.519088                  10.759588   \n",
       "\n",
       "       Avg. Area Number of Bedrooms  Area Population         Price  \n",
       "count                   5000.000000      5000.000000  5.000000e+03  \n",
       "mean                       3.981330     36163.516039  1.232073e+06  \n",
       "std                        1.234137      9925.650114  3.531176e+05  \n",
       "min                        2.000000       172.610686  1.593866e+04  \n",
       "25%                        3.140000     29403.928702  9.975771e+05  \n",
       "50%                        4.050000     36199.406689  1.232669e+06  \n",
       "75%                        4.490000     42861.290769  1.471210e+06  \n",
       "max                        6.500000     69621.713378  2.469066e+06  "
      ]
     },
     "execution_count": 5,
     "metadata": {},
     "output_type": "execute_result"
    }
   ],
   "source": [
    "casas.describe()"
   ]
  },
  {
   "cell_type": "code",
   "execution_count": 6,
   "metadata": {},
   "outputs": [
    {
     "name": "stderr",
     "output_type": "stream",
     "text": [
      "C:\\Users\\marbel\\anaconda3\\envs\\python-cvcourse\\lib\\site-packages\\scipy\\stats\\stats.py:1713: FutureWarning: Using a non-tuple sequence for multidimensional indexing is deprecated; use `arr[tuple(seq)]` instead of `arr[seq]`. In the future this will be interpreted as an array index, `arr[np.array(seq)]`, which will result either in an error or a different result.\n",
      "  return np.add.reduce(sorted[indexer] * weights, axis=axis) / sumval\n"
     ]
    },
    {
     "data": {
      "text/plain": [
       "<matplotlib.axes._subplots.AxesSubplot at 0xabcde80>"
      ]
     },
     "execution_count": 6,
     "metadata": {},
     "output_type": "execute_result"
    },
    {
     "data": {
      "image/png": "[encoded data removed]",
      "text/plain": [
       "<Figure size 432x288 with 1 Axes>"
      ]
     },
     "metadata": {
      "needs_background": "light"
     },
     "output_type": "display_data"
    }
   ],
   "source": [
    "sns.distplot(casas[\"Price\"])"
   ]
  },
  {
   "cell_type": "code",
   "execution_count": 7,
   "metadata": {},
   "outputs": [
    {
     "data": {
      "text/plain": [
       "<matplotlib.axes._subplots.AxesSubplot at 0xb8776a0>"
      ]
     },
     "execution_count": 7,
     "metadata": {},
     "output_type": "execute_result"
    },
    {
     "data": {
      "image/png": "[encoded data removed]",
      "text/plain": [
       "<Figure size 432x288 with 2 Axes>"
      ]
     },
     "metadata": {
      "needs_background": "light"
     },
     "output_type": "display_data"
    }
   ],
   "source": [
    "sns.heatmap(casas.corr(), annot=True)"
   ]
  },
  {
   "cell_type": "code",
   "execution_count": 8,
   "metadata": {},
   "outputs": [],
   "source": [
    "from sklearn.model_selection import train_test_split\n",
    "from sklearn.linear_model import LinearRegression"
   ]
  },
  {
   "cell_type": "code",
   "execution_count": 9,
   "metadata": {},
   "outputs": [
    {
     "data": {
      "text/plain": [
       "Index(['Avg. Area Income', 'Avg. Area House Age', 'Avg. Area Number of Rooms',\n",
       "       'Avg. Area Number of Bedrooms', 'Area Population', 'Price', 'Address'],\n",
       "      dtype='object')"
      ]
     },
     "execution_count": 9,
     "metadata": {},
     "output_type": "execute_result"
    }
   ],
   "source": [
    "casas.columns"
   ]
  },
  {
   "cell_type": "code",
   "execution_count": 10,
   "metadata": {},
   "outputs": [],
   "source": [
    "x = casas[['Avg. Area Income', 'Avg. Area House Age', 'Avg. Area Number of Rooms',\n",
    "       'Avg. Area Number of Bedrooms', 'Area Population']]\n",
    "y = casas['Price']"
   ]
  },
  {
   "cell_type": "code",
   "execution_count": 11,
   "metadata": {},
   "outputs": [
    {
     "data": {
      "text/html": [
       "<div>\n",
       "<style scoped>\n",
       "    .dataframe tbody tr th:only-of-type {\n",
       "        vertical-align: middle;\n",
       "    }\n",
       "\n",
       "    .dataframe tbody tr th {\n",
       "        vertical-align: top;\n",
       "    }\n",
       "\n",
       "    .dataframe thead th {\n",
       "        text-align: right;\n",
       "    }\n",
       "</style>\n",
       "<table border=\"1\" class=\"dataframe\">\n",
       "  <thead>\n",
       "    <tr style=\"text-align: right;\">\n",
       "      <th></th>\n",
       "      <th>Avg. Area Income</th>\n",
       "      <th>Avg. Area House Age</th>\n",
       "      <th>Avg. Area Number of Rooms</th>\n",
       "      <th>Avg. Area Number of Bedrooms</th>\n",
       "      <th>Area Population</th>\n",
       "    </tr>\n",
       "  </thead>\n",
       "  <tbody>\n",
       "    <tr>\n",
       "      <th>0</th>\n",
       "      <td>79545.458574</td>\n",
       "      <td>5.682861</td>\n",
       "      <td>7.009188</td>\n",
       "      <td>4.09</td>\n",
       "      <td>23086.800503</td>\n",
       "    </tr>\n",
       "    <tr>\n",
       "      <th>1</th>\n",
       "      <td>79248.642455</td>\n",
       "      <td>6.002900</td>\n",
       "      <td>6.730821</td>\n",
       "      <td>3.09</td>\n",
       "      <td>40173.072174</td>\n",
       "    </tr>\n",
       "    <tr>\n",
       "      <th>2</th>\n",
       "      <td>61287.067179</td>\n",
       "      <td>5.865890</td>\n",
       "      <td>8.512727</td>\n",
       "      <td>5.13</td>\n",
       "      <td>36882.159400</td>\n",
       "    </tr>\n",
       "    <tr>\n",
       "      <th>3</th>\n",
       "      <td>63345.240046</td>\n",
       "      <td>7.188236</td>\n",
       "      <td>5.586729</td>\n",
       "      <td>3.26</td>\n",
       "      <td>34310.242831</td>\n",
       "    </tr>\n",
       "    <tr>\n",
       "      <th>4</th>\n",
       "      <td>59982.197226</td>\n",
       "      <td>5.040555</td>\n",
       "      <td>7.839388</td>\n",
       "      <td>4.23</td>\n",
       "      <td>26354.109472</td>\n",
       "    </tr>\n",
       "    <tr>\n",
       "      <th>...</th>\n",
       "      <td>...</td>\n",
       "      <td>...</td>\n",
       "      <td>...</td>\n",
       "      <td>...</td>\n",
       "      <td>...</td>\n",
       "    </tr>\n",
       "    <tr>\n",
       "      <th>4995</th>\n",
       "      <td>60567.944140</td>\n",
       "      <td>7.830362</td>\n",
       "      <td>6.137356</td>\n",
       "      <td>3.46</td>\n",
       "      <td>22837.361035</td>\n",
       "    </tr>\n",
       "    <tr>\n",
       "      <th>4996</th>\n",
       "      <td>78491.275435</td>\n",
       "      <td>6.999135</td>\n",
       "      <td>6.576763</td>\n",
       "      <td>4.02</td>\n",
       "      <td>25616.115489</td>\n",
       "    </tr>\n",
       "    <tr>\n",
       "      <th>4997</th>\n",
       "      <td>63390.686886</td>\n",
       "      <td>7.250591</td>\n",
       "      <td>4.805081</td>\n",
       "      <td>2.13</td>\n",
       "      <td>33266.145490</td>\n",
       "    </tr>\n",
       "    <tr>\n",
       "      <th>4998</th>\n",
       "      <td>68001.331235</td>\n",
       "      <td>5.534388</td>\n",
       "      <td>7.130144</td>\n",
       "      <td>5.44</td>\n",
       "      <td>42625.620156</td>\n",
       "    </tr>\n",
       "    <tr>\n",
       "      <th>4999</th>\n",
       "      <td>65510.581804</td>\n",
       "      <td>5.992305</td>\n",
       "      <td>6.792336</td>\n",
       "      <td>4.07</td>\n",
       "      <td>46501.283803</td>\n",
       "    </tr>\n",
       "  </tbody>\n",
       "</table>\n",
       "<p>5000 rows × 5 columns</p>\n",
       "</div>"
      ],
      "text/plain": [
       "      Avg. Area Income  Avg. Area House Age  Avg. Area Number of Rooms  \\\n",
       "0         79545.458574             5.682861                   7.009188   \n",
       "1         79248.642455             6.002900                   6.730821   \n",
       "2         61287.067179             5.865890                   8.512727   \n",
       "3         63345.240046             7.188236                   5.586729   \n",
       "4         59982.197226             5.040555                   7.839388   \n",
       "...                ...                  ...                        ...   \n",
       "4995      60567.944140             7.830362                   6.137356   \n",
       "4996      78491.275435             6.999135                   6.576763   \n",
       "4997      63390.686886             7.250591                   4.805081   \n",
       "4998      68001.331235             5.534388                   7.130144   \n",
       "4999      65510.581804             5.992305                   6.792336   \n",
       "\n",
       "      Avg. Area Number of Bedrooms  Area Population  \n",
       "0                             4.09     23086.800503  \n",
       "1                             3.09     40173.072174  \n",
       "2                             5.13     36882.159400  \n",
       "3                             3.26     34310.242831  \n",
       "4                             4.23     26354.109472  \n",
       "...                            ...              ...  \n",
       "4995                          3.46     22837.361035  \n",
       "4996                          4.02     25616.115489  \n",
       "4997                          2.13     33266.145490  \n",
       "4998                          5.44     42625.620156  \n",
       "4999                          4.07     46501.283803  \n",
       "\n",
       "[5000 rows x 5 columns]"
      ]
     },
     "execution_count": 11,
     "metadata": {},
     "output_type": "execute_result"
    }
   ],
   "source": [
    "x"
   ]
  },
  {
   "cell_type": "code",
   "execution_count": 12,
   "metadata": {},
   "outputs": [
    {
     "data": {
      "text/plain": [
       "0       1.059034e+06\n",
       "1       1.505891e+06\n",
       "2       1.058988e+06\n",
       "3       1.260617e+06\n",
       "4       6.309435e+05\n",
       "            ...     \n",
       "4995    1.060194e+06\n",
       "4996    1.482618e+06\n",
       "4997    1.030730e+06\n",
       "4998    1.198657e+06\n",
       "4999    1.298950e+06\n",
       "Name: Price, Length: 5000, dtype: float64"
      ]
     },
     "execution_count": 12,
     "metadata": {},
     "output_type": "execute_result"
    }
   ],
   "source": [
    "y"
   ]
  },
  {
   "cell_type": "code",
   "execution_count": 13,
   "metadata": {},
   "outputs": [],
   "source": [
    "x_train, x_test, y_train, y_test = train_test_split(x,y,test_size=0.2, random_state=42)"
   ]
  },
  {
   "cell_type": "code",
   "execution_count": 14,
   "metadata": {},
   "outputs": [
    {
     "data": {
      "text/plain": [
       "LinearRegression(copy_X=True, fit_intercept=True, n_jobs=1, normalize=False)"
      ]
     },
     "execution_count": 14,
     "metadata": {},
     "output_type": "execute_result"
    }
   ],
   "source": [
    "regresion = LinearRegression()\n",
    "regresion.fit(x_train,y_train)"
   ]
  },
  {
   "cell_type": "code",
   "execution_count": 15,
   "metadata": {},
   "outputs": [],
   "source": [
    "from sklearn import metrics"
   ]
  },
  {
   "cell_type": "code",
   "execution_count": 16,
   "metadata": {},
   "outputs": [],
   "source": [
    "predicciones = regresion.predict(x_test)"
   ]
  },
  {
   "cell_type": "code",
   "execution_count": 17,
   "metadata": {},
   "outputs": [
    {
     "data": {
      "text/plain": [
       "array([1308587.92699716, 1237037.22949393, 1243429.34030719,\n",
       "       1228900.21360433, 1063320.90710754, 1544058.05034821,\n",
       "       1094774.70493033,  833284.72339247,  788412.85578753,\n",
       "       1469714.86615697,  671728.43662091, 1606818.21977779,\n",
       "       1004166.61331046, 1796798.97595969, 1288566.96220954,\n",
       "       1087782.93301085, 1423072.37492492, 1078178.68169648,\n",
       "        802286.03537916,  930761.03695738, 1134829.86477804,\n",
       "        916398.42023086, 1489972.69335358, 1284580.15538839,\n",
       "       1582071.35322689, 1132519.15992001, 1089888.3964449 ,\n",
       "        974510.51872176,  924057.96820795, 1740759.72092218,\n",
       "       1286481.59512374, 1621289.95171618, 1435264.20161697,\n",
       "       1234014.77924526, 1485434.5730037 , 1718335.007536  ,\n",
       "       1538953.74882765,  777106.64791828, 1765201.52243599,\n",
       "       1175972.1419983 , 1553707.94323479,  897703.67505166,\n",
       "       1371049.80326601,  845281.72310351, 1201022.89803858,\n",
       "       1133285.98450794, 1363128.14557392, 1449814.08768222,\n",
       "       1574363.90467325, 1233577.50266001, 1484464.0160615 ,\n",
       "       1295276.58943535, 1222136.77335401,  990124.4165967 ,\n",
       "       1693824.96035776, 1823785.05665061, 1136495.63903304,\n",
       "       1282164.40305653, 1327292.05443202, 1353355.51909081,\n",
       "        966265.44346005,  661906.63917246, 1533750.56861035,\n",
       "       1002479.76053607,  995799.79959574, 1567349.59707186,\n",
       "       1500813.63482547, 1090078.00056465, 1820964.84741619,\n",
       "       1479856.16724303,  902785.30216069, 1494542.21679536,\n",
       "       1378859.29762394,  962610.88478544,  712800.76347541,\n",
       "       1565650.37425332, 1149218.97654368,  931311.21938313,\n",
       "       1600923.95574323,  506875.426393  , 1592924.03164877,\n",
       "       1292023.549534  ,  681260.98814031,  432977.16110051,\n",
       "       1395334.63471243,  696834.5074012 ,  663613.86440661,\n",
       "       1030075.8256709 , 1485134.02140086, 1320071.75329085,\n",
       "       1271264.11329324, 1422274.66428961,  671601.89583305,\n",
       "       1149995.64271509, 1261301.82190821,  784691.75366814,\n",
       "       1189915.30485972, 1014887.17531272, 1405378.85715019,\n",
       "       1539076.97995899,  593301.15079237, 1391801.76393908,\n",
       "       1262742.70864066, 1875132.68141911, 2336899.3338714 ,\n",
       "        946302.25269137, 1315655.58002692,  953107.00437499,\n",
       "       1831758.27483126, 1625882.6902417 , 1639245.3599971 ,\n",
       "       1267016.02457529, 1804840.84718806, 1220829.46104282,\n",
       "        850670.85934722, 1584187.59595389,  761904.58839518,\n",
       "       1360032.80169353, 1186062.16197455, 1559470.32105819,\n",
       "       1770323.74482737, 1608248.5368413 , 1573661.8696271 ,\n",
       "       1531208.64376158, 1812547.75249852, 1124965.3786233 ,\n",
       "        669517.22471183,  978249.45590811, 1316294.24560545,\n",
       "       1627775.48942825, 1343329.23943846, 1088746.21767485,\n",
       "       1516813.82322275, 1333391.5625644 , 1421961.5369996 ,\n",
       "       1527965.13951204, 1674048.56946849, 1301125.76637763,\n",
       "        843902.14276086, 1439397.74699529, 1857462.44038357,\n",
       "       1090388.23396924, 1845464.91767028, 1272015.37672497,\n",
       "       2036878.56552102,  882686.73444808,  954142.09498631,\n",
       "       1116676.58455446, 1395124.12307518, 1510721.91006237,\n",
       "        952949.66077835,  969883.09423412, 1320445.6698226 ,\n",
       "       1494548.61488371, 1311797.03936275,  764593.88740314,\n",
       "       1729945.04026274,  966390.95323419, 1980014.56655055,\n",
       "       1253548.56040105, 1378043.01470128, 1465705.85673401,\n",
       "       1041643.25777122, 2016178.12307709, 1425286.31755913,\n",
       "        783766.05598718,  826322.77792551, 1753896.36530076,\n",
       "       1077079.69502201, 2073701.72252865, 1735967.0846299 ,\n",
       "       1049433.84155991, 1829294.89844218, 1128895.79613829,\n",
       "       1629029.3528393 , 1634470.42260777, 1524785.70964644,\n",
       "        722156.79424192,  740342.62131152,  547622.83148211,\n",
       "        828931.14665447, 1067364.15017839,  969253.52659171,\n",
       "       1227292.5524591 ,  871755.12799384,  504202.02965951,\n",
       "       1200044.4787389 , 1062310.8848757 , 1519500.9929722 ,\n",
       "       1329223.54689478, 1386542.6482011 , 1320937.40536451,\n",
       "       1204359.90632437, 1240619.19034635, 1365626.91484043,\n",
       "       1769953.37847144, 1329720.91129389, 1376332.51764089,\n",
       "       1298990.36407915,  834744.40310726, 1272066.20149392,\n",
       "       1451499.03548566, 1289190.82085853,  896873.03598673,\n",
       "        990437.07011066, 1357842.65851652, 1649364.37150868,\n",
       "        779324.24925053, 1005588.56759429, 1467831.81435113,\n",
       "       1124908.45994284, 1142768.9365308 , 1250196.34738779,\n",
       "       1105424.47695268,  622294.9386179 , 1841657.41212504,\n",
       "       1182731.53995537,  609160.57633671, 1410661.5341924 ,\n",
       "       1263529.22101426, 1119673.80759961, 1145399.95692925,\n",
       "        500449.33290996, 1109883.63039204, 1626981.19957403,\n",
       "        797675.84432513, 1407092.10326849, 1560733.66870722,\n",
       "       1698894.16984387, 1714320.59543045, 1216152.65562668,\n",
       "       1114774.40354026, 1001067.89613647, 1065269.68436404,\n",
       "       1625179.0229012 , 1593962.78450193, 1526221.35988262,\n",
       "       1129983.77332897,  735887.8228692 , 1593872.80909033,\n",
       "       1732256.51293185, 1264953.46131019, 1216712.64382558,\n",
       "       1539828.39332812, 1748273.31153951,  544482.71161723,\n",
       "       1177808.65915498, 1404019.93663787, 1125393.51909485,\n",
       "        545088.45128057, 1290749.88927723, 1658361.89913423,\n",
       "       1487203.28008191, 1291143.03838477, 2050455.16760416,\n",
       "        768874.19747935, 1863631.84714338,  929819.17764119,\n",
       "       1761083.62018154, 1659001.75083629, 1247438.96208964,\n",
       "        713427.40837843, 1778756.53025759,  461932.49611815,\n",
       "       2167306.95873248,  664672.42431931, 1801836.62367775,\n",
       "       1265099.18805309, 1139217.30086041, 1173989.4830089 ,\n",
       "       1748192.41949244, 1147793.31302133, 1029923.90766772,\n",
       "        947126.10538068, 1182469.4943464 ,  927601.20005188,\n",
       "       1566514.6168573 , 1175827.55938893,  388087.54801501,\n",
       "       1288959.37006084,  986658.19197337, 1340019.64945833,\n",
       "       1044418.84541031, 1286342.563362  , 1531000.55785296,\n",
       "       1667768.88543254, 1084796.51405748,  720967.43062559,\n",
       "        811997.72885715, 1328871.66384382, 1519499.84416168,\n",
       "       1379415.47205369, 1457746.58240952,  998979.73972494,\n",
       "       2252173.82126769, 1491966.70905194, 1349013.08643529,\n",
       "       1042666.25727844,  486559.46844388, 1792549.96363353,\n",
       "       1193458.8475476 , 1247203.26503477, 1122698.47045954,\n",
       "       1004013.2801843 , 1699121.45816198, 1504252.14207207,\n",
       "       1432835.58985512, 1342786.68025851, 1601414.77106583,\n",
       "        821506.76488298, 1126578.53904188, 1291476.44544103,\n",
       "       1698968.44222444, 1232602.93325311, 1489643.6751026 ,\n",
       "       1233262.35005613, 1135048.11749492, 1732127.82573455,\n",
       "       1348162.2174709 ,  621085.06641235, 1501389.10755796,\n",
       "       1201749.81984465, 1326727.70232224, 1097551.72695629,\n",
       "       1221290.66261448,  788262.02543968,  935562.28249743,\n",
       "       1287412.17867162, 1473888.67757698,  609893.86640571,\n",
       "       1183181.37838196, 1035484.44410104,  809285.45807008,\n",
       "        655567.08949452,  983743.80081265,  986631.4175799 ,\n",
       "       1320596.6797415 , 1196954.70045332,  961010.91970446,\n",
       "       1275847.42178907, 1425242.665695  , 1654320.54624538,\n",
       "       1521722.43867586, 1396978.62698662, 1413827.9271812 ,\n",
       "       1219885.02000759, 1232374.59901548, 1654016.63386522,\n",
       "       1328324.05157986, 1321091.57152415, 1299216.74514614,\n",
       "       1347305.90163694, 1688687.80000914, 1574519.36949702,\n",
       "       1045335.69889302, 1356261.70016914, 1439514.97152488,\n",
       "       1504156.15649893, 1138145.82597044, 1500051.7229431 ,\n",
       "       1486912.30438017,  385027.92486013, 1216217.42146567,\n",
       "       1726329.91434956, 1207805.9848946 ,  894601.19092647,\n",
       "       1240643.83179273, 1308440.22054423, 1437359.37891268,\n",
       "        893239.68166927, 1792787.36750061, 2076933.42343331,\n",
       "        922567.65702034, 1458351.25849111, 1249772.50297824,\n",
       "       1370805.23907784, 1121245.9890941 ,  963231.49570936,\n",
       "       1327241.12918526, 1187327.23418128,  943716.62278266,\n",
       "        424854.57298739, 1223724.5835251 , 1411756.82716414,\n",
       "       1236002.32151852, 1449021.08575892, 1411706.42320699,\n",
       "        926881.67781001, 1006631.71873015, 1325140.65527561,\n",
       "        470014.10664435, 1568408.54620606, 1071690.67501273,\n",
       "       1261709.43785507,  983184.15258561, 1086377.76905189,\n",
       "        726363.60820811,  814172.12713779,  803025.54888573,\n",
       "       1619615.99437047,  459335.13663732, 1300390.90011148,\n",
       "        961516.33244626, 1025131.04020118, 1384778.89206796,\n",
       "       1235853.66369928,  769788.89202072, 1026166.69741529,\n",
       "       1405638.84930904, 1756291.1165281 , 1280487.11747002,\n",
       "        622591.98844854, 1449923.84156205, 1198418.9469862 ,\n",
       "       1356968.16583348, 1079271.72703245, 1352329.77296878,\n",
       "       1057107.45852958, 1290462.77150164,  705163.48550201,\n",
       "       1200364.66997155, 1507695.00401141,  962337.84598511,\n",
       "       1204232.84729691, 1571860.5806503 , 1209464.73857423,\n",
       "       1549865.08072217,  769645.60725025, 1404674.43922917,\n",
       "       1240637.52783316, 1029500.08001658, 1335457.58612511,\n",
       "       1088594.03736595, 1047144.04180955, 1388984.12610538,\n",
       "        918924.01605121, 1096407.5017463 , 1406966.35948277,\n",
       "        806952.29876881, 1196187.41426752, 1010141.32136428,\n",
       "       1394711.98478697, 1257521.42006969, 1299693.11290863,\n",
       "       1294970.94288694, 1723105.21964883, 1711247.39032037,\n",
       "       1174489.95194169,  897740.74110049, 1356640.83884516,\n",
       "       1219851.0344762 , 1366674.22214233, 1644472.1473493 ,\n",
       "        724989.37808746, 1570999.00692547,  924989.36290739,\n",
       "        673283.2649776 , 1589694.70648697, 1373578.19145124,\n",
       "       1236758.80570296, 1939038.59441333, 1248340.03854224,\n",
       "       1393184.15037985, 1703469.17720762, 1059230.86749288,\n",
       "       1268676.36389761, 1304697.18785126,  892460.12277139,\n",
       "        964864.99058533,  818820.07760031, 1401580.54747527,\n",
       "       1180874.94215924, 1259247.43803542, 1702902.04493192,\n",
       "       1649087.11983932, 1731289.88335287, 1125719.05993058,\n",
       "        865172.86237642,  968232.22605854,  784711.55849902,\n",
       "        781822.82332269, 1209737.47415562,  972635.23672541,\n",
       "       1576919.83616633, 1060076.42506716,  694196.84219493,\n",
       "       1610587.67992987, 1309658.61630391, 1141463.96987356,\n",
       "       1205906.98599953, 1281336.18444162, 1171886.92407761,\n",
       "       1567896.45068182, 1322659.49232193, 1166515.84227971,\n",
       "        789697.38830614, 1143720.96771755,  648247.7063693 ,\n",
       "       1071126.4420469 , 1428574.57982088, 1424322.83234034,\n",
       "       1057501.45875355, 1430509.55156428, 1324079.70373574,\n",
       "       1292014.89736668, 1071126.32745216, 1287175.72484537,\n",
       "       1019167.68338728, 1037478.15144029, 1049936.76364953,\n",
       "        731789.18467518,  782568.77309993, 1002203.86002328,\n",
       "       1067321.67597125, 1124201.97076047, 1457954.83235595,\n",
       "       1108354.56185648, 1598770.07901324, 1176022.85579898,\n",
       "       1096986.7336809 , 1247383.41805669, 1363559.4817819 ,\n",
       "        773372.64579594,  822330.64613243,  993393.81206808,\n",
       "       1543915.0952091 , 1493186.91902704, 1175891.67528438,\n",
       "       1253692.12639551, 1521005.76686493, 1627802.51180514,\n",
       "       1686082.39992495, 1980124.3779753 ,  977460.80106605,\n",
       "       1109687.22060384, 1113007.40549549, 1211544.64900647,\n",
       "       1407486.32673176,  789313.25630075, 1234898.66189976,\n",
       "       1209078.69432759, 1803383.95079976, 2114888.79328692,\n",
       "       1118853.92157717, 1206707.38468665, 1352852.99343901,\n",
       "       1396175.67664007, 1546374.75741916,  666842.59066053,\n",
       "       1481420.71952372, 1021477.45518578,  968486.88335937,\n",
       "       1424082.26366221, 1914787.24107113,  914204.87835342,\n",
       "       1489860.90731098,  693922.34630688, 1031062.51066012,\n",
       "       1352126.0325433 , 1373512.52703601, 1049109.83383309,\n",
       "       1486525.47762691, 1310520.39595894, 1647941.99311817,\n",
       "       1283575.24055877, 1452989.07762714, 1429414.83148136,\n",
       "       1034083.0348801 , 1134634.51460349, 1403564.88673526,\n",
       "       1584896.6127613 , 1746823.45559137, 1466283.25973606,\n",
       "       1294745.41392556, 1051682.4725577 , 1101548.76032292,\n",
       "       1465167.0008956 , 1382725.06572416,  939224.93035429,\n",
       "       1337350.76799291, 1120979.59497992, 1319831.03770812,\n",
       "        558962.93258741, 1401611.09978769, 1354544.07306082,\n",
       "       1306334.89969533, 2086259.17091902, 1904134.11165441,\n",
       "        539895.35619551, 1525528.05146347, 1235213.44649993,\n",
       "        750639.8825542 , 1127965.98258833, 1471490.85051119,\n",
       "        619419.48787529, 1114997.61194511, 1061464.69123041,\n",
       "       1013604.11379751, 1581434.85227389, 1079499.50514153,\n",
       "       1055056.29175906, 1034589.9546644 , 1224314.04495522,\n",
       "        887268.18862843, 1516254.20491701, 1865327.56742204,\n",
       "       1027371.06429475, 1490055.38180642, 1337289.95134357,\n",
       "       1119421.33157692,  979092.31019084,  679557.25776163,\n",
       "       1325905.50178093, 1171590.73226988, 1567491.12331892,\n",
       "       1143856.1916661 , 1126148.64416524,  864154.38857818,\n",
       "        490147.41546391, 1291071.27278543, 1038384.50618652,\n",
       "       1662679.55956643, 1160624.90934356, 2037284.10126515,\n",
       "       1516262.89327412, 1229075.23311307, 1547218.08935877,\n",
       "       1434753.65392632, 1709132.86008217, 1281184.0997561 ,\n",
       "       1524044.0766069 ,  968015.40091388, 1293671.18547201,\n",
       "       1106474.84699342, 1431104.22750473, 1712068.30269012,\n",
       "       1160254.52501101,  655742.41586221, 1226710.98389823,\n",
       "        927585.91056616, 1267635.28046206,  891680.82011528,\n",
       "       1234379.98343435,  921258.67102352,  973622.38506851,\n",
       "       1211118.49159463, 1152861.17190996, 1769241.0465228 ,\n",
       "       1185559.02437271,  982633.08890868, 1332532.61460742,\n",
       "       1642473.93936954,  965382.57146952, 1281975.93146396,\n",
       "       1406343.90581987,  677673.85740155, 1209557.69139046,\n",
       "        732921.10636362, 1682132.45242362,  872620.43651328,\n",
       "       1136143.09175212,  510258.75506226, 1288102.88621635,\n",
       "       1371033.33463977, 1310113.78224327, 1436855.31241052,\n",
       "       1051232.72974665,  684828.48739358, 1101019.83617935,\n",
       "       1567983.51294806, 1018012.68216358, 1050698.11270309,\n",
       "        825827.00943882, 1173621.66011221, 1591981.75730136,\n",
       "       1595728.99149173, 1360891.37529112, 1192754.8289797 ,\n",
       "        655836.47938466, 1560112.78530459,  813169.25379873,\n",
       "       1132145.75967504, 1564590.92451711, 1118669.76459782,\n",
       "       1569760.45331538, 1383018.33137043, 1609536.23008562,\n",
       "       1045549.71074357, 1174361.92171485, 1447869.7995918 ,\n",
       "       1824783.76109702, 1639844.91468836, 1488884.78527563,\n",
       "       1427514.92585417, 1231681.33305909, 1368014.03189636,\n",
       "       1424922.73584768, 1551131.49668317,  914701.22781704,\n",
       "       1249841.22219042,  258045.70919595, 1230968.70157335,\n",
       "       1126752.12639179,  858783.44109432,  739043.62099812,\n",
       "       1044214.90471311, 1112387.60767915, 1223250.56468727,\n",
       "       1447909.2340362 , 1328619.0365326 , 1049307.01433346,\n",
       "        769590.67267144, 1751850.88833509, 1463027.89759099,\n",
       "       2139919.10952293, 1718412.13713049, 1115993.45943509,\n",
       "       1995828.29498947, 1193379.3159613 ,  660188.56028403,\n",
       "        660678.46196101, 1798655.55037076,  470131.44658403,\n",
       "       1364102.16506245,  889323.70683996,  706548.24954166,\n",
       "       1399891.22458691, 1416306.2723589 ,  967240.32613218,\n",
       "       1729652.56536648,  869958.83238874, 1437817.09450816,\n",
       "       1122484.5320402 , 1673255.03691681, 1440039.59230988,\n",
       "       1500539.40538975,  971584.27416955, 1043184.93567301,\n",
       "       1317543.16932931, 1007627.13026084, 1323354.4036554 ,\n",
       "       1135667.1749018 , 1510351.76679851,  993056.44789481,\n",
       "       1208831.65832758, 1988655.64291087, 1230200.72390669,\n",
       "       1390403.72276627, 1262914.99801435, 1582327.50953684,\n",
       "       1028414.83031312, 1672107.67442233, 1265752.82959153,\n",
       "       1236601.43306982,  329710.11232953,  717954.11280974,\n",
       "       1103733.13974487, 1188712.89825674, 1261796.7279541 ,\n",
       "       1193848.82152248, 1303384.58750887, 1076900.53575867,\n",
       "       1169750.68418026, 1458470.38909807, 1190650.84525976,\n",
       "       1360612.20338339, 1497401.76740697,  916161.01831816,\n",
       "       1311284.98583144, 1579839.09403308, 1155915.54541674,\n",
       "       1425748.49376163, 1287287.54555805, 1153862.22489311,\n",
       "       1825980.94614767, 1049734.15221318,  909542.47470264,\n",
       "       1253936.42188604, 1467206.44416848, 1639991.73405582,\n",
       "       1521767.77491783, 1019769.20382372,  652300.40469464,\n",
       "        643377.65271692, 1142025.91271164, 1263237.9829968 ,\n",
       "       1258087.11819231,  589606.0553697 , 1187007.16456485,\n",
       "       1121740.50402117, 1808959.71031362, 1800055.63690809,\n",
       "       1123524.63673939, 1425287.86106936, 1510529.71215078,\n",
       "       1323072.46306214, 1443101.22620899, 1296655.19033916,\n",
       "       1551943.68696657, 1237292.0029809 ,  665445.49485853,\n",
       "       1262709.17153414, 1048886.41492075, 1867303.54970963,\n",
       "       1562894.27356951,  731321.70170499, 1239100.56464227,\n",
       "        909236.28293376, 1752100.42286098, 1602831.78580357,\n",
       "       1504851.06631651, 1411568.94781496, 1394422.38818576,\n",
       "        370722.62126893, 1672311.9776941 , 2120154.65355431,\n",
       "        421201.5438678 , 1486648.19169931, 1200115.30672016,\n",
       "       1531544.96637768, 1031782.76469211,  842914.91778176,\n",
       "        838950.40676627,  596819.7494249 ,  855574.21947047,\n",
       "       1040351.51174868, 1499196.39432645, 1353188.18645187,\n",
       "       1167128.79448728,  980462.42074901, 1615652.70345419,\n",
       "       1192255.12726459, 1280277.40202461,  542769.58059295,\n",
       "       1121564.1139054 , 1430520.80041275, 1187720.5970879 ,\n",
       "       1293444.79096413, 1344677.83092672, 1183418.13056102,\n",
       "       1508087.0980063 , 1265155.24508924, 1342605.87097163,\n",
       "       1277584.98121801,  733241.48650889, 1553389.38956826,\n",
       "       1398171.05352949, 1187021.49985596, 1371024.29006893,\n",
       "       1108983.89166017,  975275.64367688, 1202021.725455  ,\n",
       "       1933557.66278945,  753137.6044114 ,  972296.008058  ,\n",
       "       1448918.48607894, 1859400.97278723,  914399.57695718,\n",
       "       1004535.08620232,  924307.9193291 ,  964217.30193262,\n",
       "       1220872.72352639, 1266519.75438403, 1619407.66362997,\n",
       "       1582521.89907611,  764723.64152421, 1739052.84077973,\n",
       "       1593274.88965296, 1677324.99055413,  982954.91497659,\n",
       "       1370603.38372501,  906582.85685702, 1631028.42785929,\n",
       "        690988.17277093, 1573202.07842743, 1466498.88062098,\n",
       "       1650267.04845538, 1182468.0783206 , 1173494.86869985,\n",
       "       1333497.96024315, 1256991.46375877, 1859915.69316214,\n",
       "        758934.1049993 , 1392542.74052307, 1711869.49819383,\n",
       "       1561607.58741236,  886776.00191141, 1312020.9577612 ,\n",
       "       1174661.91515481, 1071955.83874445, 1381315.05056361,\n",
       "       1106592.45010925, 1170614.82399691,  992963.00044669,\n",
       "       1471298.27839549, 1531571.1379244 , 1609332.54145862,\n",
       "       1374687.2616891 ,  963514.88833804, 1516653.63997647,\n",
       "       1161808.93374296,  874674.36305498, 1168468.71316213,\n",
       "        608242.40551399, 1499895.89008381, 1020508.80251928,\n",
       "       1657914.86180073,  870372.42975653, 1469286.71372915,\n",
       "       1585005.10990013, 2474725.66527175, 1312108.9754553 ,\n",
       "        927776.12992535, 1291387.284782  , 1591848.64102518,\n",
       "        601180.27473496, 1595036.52624212, 1186556.58305162,\n",
       "       1569918.89962091,  775297.74281855, 1498585.74619839,\n",
       "        731227.25771154, 1504692.54832437, 1046686.00738129,\n",
       "       1305402.58575967, 1275949.4889568 ,  997331.42657975,\n",
       "        617836.40659188, 1591112.8633293 , 1400763.16673391,\n",
       "       1311860.51933237, 1197044.05948836, 1041880.02840152,\n",
       "       1530068.19561794,  967934.24578181, 1427009.14149099,\n",
       "       1165147.25822146,  869045.49036596, 1541101.84334553,\n",
       "        952854.45148338, 1649273.51933499, 1262902.39001228,\n",
       "        630780.85419713,  576868.98552438, 1709538.25511072,\n",
       "       1627857.63001043,  838666.12045456,  878776.97048243,\n",
       "       1299345.44781403, 1160416.62138448,  749980.45207411,\n",
       "        983974.19311123, 1153309.90526942,  943191.01927426,\n",
       "       1123570.59504186, 1547446.72609461, 1298891.037806  ,\n",
       "        694670.3890147 , 1042411.72399711,  858369.8820049 ,\n",
       "       1238168.96478328, 1069914.16183758, 1032803.77343632,\n",
       "       1215816.40190436, 1344361.73315561, 1128683.0732198 ,\n",
       "       1451580.23403137, 1094467.1273601 , 1242819.7547519 ,\n",
       "       1312634.56732405, 1501591.70729073, 1577868.55728428,\n",
       "       1263870.34957632,  966363.7311345 , 1304929.99505732,\n",
       "        948730.96917433, 1116943.51964656, 1177297.49010987,\n",
       "        988220.39094922, 1035263.71039957, 1114925.57767777,\n",
       "       1691529.13991392,  493943.88206341, 1819479.31451044,\n",
       "       1387271.64234039,  632696.71378608, 1224357.78570388,\n",
       "       1180743.31764198, 1036241.70518235,  921234.34851239,\n",
       "       1754054.11179388, 1583328.0618722 , 1563758.96394328,\n",
       "       1342866.59984838, 1173594.2369092 , 1042902.57541176,\n",
       "       1318531.80156888, 1870001.48200053, 1663623.85817574,\n",
       "       1045096.55057782])"
      ]
     },
     "execution_count": 17,
     "metadata": {},
     "output_type": "execute_result"
    }
   ],
   "source": [
    "predicciones"
   ]
  },
  {
   "cell_type": "code",
   "execution_count": 18,
   "metadata": {},
   "outputs": [
    {
     "data": {
      "text/plain": [
       "<matplotlib.collections.PathCollection at 0xd7ac4e0>"
      ]
     },
     "execution_count": 18,
     "metadata": {},
     "output_type": "execute_result"
    },
    {
     "data": {
      "image/png": "[encoded data removed]",
      "text/plain": [
       "<Figure size 432x288 with 1 Axes>"
      ]
     },
     "metadata": {
      "needs_background": "light"
     },
     "output_type": "display_data"
    }
   ],
   "source": [
    "plt.scatter(y_test,predicciones)"
   ]
  },
  {
   "cell_type": "code",
   "execution_count": 19,
   "metadata": {},
   "outputs": [
    {
     "data": {
      "text/plain": [
       "0.9179971706834577"
      ]
     },
     "execution_count": 19,
     "metadata": {},
     "output_type": "execute_result"
    }
   ],
   "source": [
    "regresion.score(x_test,y_test)"
   ]
  },
  {
   "cell_type": "code",
   "execution_count": 20,
   "metadata": {},
   "outputs": [
    {
     "data": {
      "text/plain": [
       "['Algoritmo_Final.pkl']"
      ]
     },
     "execution_count": 20,
     "metadata": {},
     "output_type": "execute_result"
    }
   ],
   "source": [
    "from sklearn.externals import joblib\n",
    "joblib.dump(regresion,\"Algoritmo_Final.pkl\")"
   ]
  },
  {
   "cell_type": "code",
   "execution_count": null,
   "metadata": {},
   "outputs": [],
   "source": []
  }
 ],
 "metadata": {
  "kernelspec": {
   "display_name": "Python 3",
   "language": "python",
   "name": "python3"
  },
  "language_info": {
   "codemirror_mode": {
    "name": "ipython",
    "version": 3
   },
   "file_extension": ".py",
   "mimetype": "text/x-python",
   "name": "python",
   "nbconvert_exporter": "python",
   "pygments_lexer": "ipython3",
   "version": "3.7.2"
  }
 },
 "nbformat": 4,
 "nbformat_minor": 2
}
