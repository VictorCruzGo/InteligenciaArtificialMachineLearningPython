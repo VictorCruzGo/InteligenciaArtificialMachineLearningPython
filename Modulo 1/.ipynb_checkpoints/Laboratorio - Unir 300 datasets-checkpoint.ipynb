{
 "cells": [
  {
   "cell_type": "markdown",
   "metadata": {},
   "source": [
    "# Unir 300 datasets"
   ]
  },
  {
   "cell_type": "code",
   "execution_count": 18,
   "metadata": {},
   "outputs": [],
   "source": [
    "#import pandas as pd\n",
    "import pandas as pd"
   ]
  },
  {
   "cell_type": "code",
   "execution_count": 23,
   "metadata": {},
   "outputs": [
    {
     "data": {
      "text/html": [
       "<div>\n",
       "<style scoped>\n",
       "    .dataframe tbody tr th:only-of-type {\n",
       "        vertical-align: middle;\n",
       "    }\n",
       "\n",
       "    .dataframe tbody tr th {\n",
       "        vertical-align: top;\n",
       "    }\n",
       "\n",
       "    .dataframe thead th {\n",
       "        text-align: right;\n",
       "    }\n",
       "</style>\n",
       "<table border=\"1\" class=\"dataframe\">\n",
       "  <thead>\n",
       "    <tr style=\"text-align: right;\">\n",
       "      <th></th>\n",
       "      <th>Date</th>\n",
       "      <th>sulfate</th>\n",
       "      <th>nitrate</th>\n",
       "      <th>ID</th>\n",
       "    </tr>\n",
       "  </thead>\n",
       "  <tbody>\n",
       "    <tr>\n",
       "      <th>0</th>\n",
       "      <td>2003-01-01</td>\n",
       "      <td>NaN</td>\n",
       "      <td>NaN</td>\n",
       "      <td>1</td>\n",
       "    </tr>\n",
       "    <tr>\n",
       "      <th>1</th>\n",
       "      <td>2003-01-02</td>\n",
       "      <td>NaN</td>\n",
       "      <td>NaN</td>\n",
       "      <td>1</td>\n",
       "    </tr>\n",
       "    <tr>\n",
       "      <th>2</th>\n",
       "      <td>2003-01-03</td>\n",
       "      <td>NaN</td>\n",
       "      <td>NaN</td>\n",
       "      <td>1</td>\n",
       "    </tr>\n",
       "    <tr>\n",
       "      <th>3</th>\n",
       "      <td>2003-01-04</td>\n",
       "      <td>NaN</td>\n",
       "      <td>NaN</td>\n",
       "      <td>1</td>\n",
       "    </tr>\n",
       "    <tr>\n",
       "      <th>4</th>\n",
       "      <td>2003-01-05</td>\n",
       "      <td>NaN</td>\n",
       "      <td>NaN</td>\n",
       "      <td>1</td>\n",
       "    </tr>\n",
       "  </tbody>\n",
       "</table>\n",
       "</div>"
      ],
      "text/plain": [
       "         Date  sulfate  nitrate  ID\n",
       "0  2003-01-01      NaN      NaN   1\n",
       "1  2003-01-02      NaN      NaN   1\n",
       "2  2003-01-03      NaN      NaN   1\n",
       "3  2003-01-04      NaN      NaN   1\n",
       "4  2003-01-05      NaN      NaN   1"
      ]
     },
     "execution_count": 23,
     "metadata": {},
     "output_type": "execute_result"
    }
   ],
   "source": [
    "#data = pd.read_csv(\"C:/Users/Vic/Documents/CursoMachineLearning/Modulo 1/dataset/distributed-data/001.csv\")\n",
    "#data.head()\n",
    "\n",
    "data= pd.read_csv(\"C:/Users/Vic/Documents/CursoMachineLearning/Modulo 1/dataset/distributed-data/001.csv\")\n",
    "data.head()"
   ]
  },
  {
   "cell_type": "code",
   "execution_count": 4,
   "metadata": {},
   "outputs": [],
   "source": [
    "#Matrices sparced, cuando existen muchos NaN, o cuando todo esta en cero o si faltan muchos datos.\n",
    "#Ej. puede que el sensor no este trabajando bien."
   ]
  },
  {
   "cell_type": "code",
   "execution_count": 24,
   "metadata": {},
   "outputs": [
    {
     "data": {
      "text/plain": [
       "(1461, 4)"
      ]
     },
     "execution_count": 24,
     "metadata": {},
     "output_type": "execute_result"
    }
   ],
   "source": [
    "data.shape"
   ]
  },
  {
   "cell_type": "code",
   "execution_count": 33,
   "metadata": {},
   "outputs": [],
   "source": [
    "#filepath=\"C:/Users/Vic/Documents/CursoMachineLearning/Modulo 1/dataset/distributed-data/\"\n",
    "#data=pd.read_csv(\"C:/Users/Vic/Documents/CursoMachineLearning/Modulo 1/dataset/distributed-data/001.csv\")\n",
    "#for i in range(2,333):\n",
    "    #if i < 10:\n",
    "     #   filename=\"00\"+str(i)\n",
    "    #if i>=10 and i<100:\n",
    "     #   filename=\"0\"+str(i)\n",
    "    #if i>=100:\n",
    "     #   filename=str(i)\n",
    "    #file=filepath+filename+\".csv\"\n",
    "    #temp_data=pd.read_csv(file)\n",
    "    \n",
    "    #data = pd.concat([data, temp_data], axis=0)\n",
    "        \n",
    "filepath=\"C:/Users/Vic/Documents/CursoMachineLearning/Modulo 1/dataset/distributed-data/\"\n",
    "data=pd.read_csv(filepath+\"001.csv\")\n",
    "for i in range(2,333):\n",
    "    if i < 10:\n",
    "        filename=\"00\"+str(i)\n",
    "    if i > 10 and i<100:\n",
    "        filename=\"0\"+str(i)\n",
    "    if i > 100:\n",
    "        filename=str(i)\n",
    "    file=filepath+filename+\".csv\"\n",
    "    temp_data=pd.read_csv(file)\n",
    "    \n",
    "    data=pd.concat([data, temp_data], axis=0)"
   ]
  },
  {
   "cell_type": "code",
   "execution_count": 35,
   "metadata": {},
   "outputs": [
    {
     "data": {
      "text/plain": [
       "(775738, 4)"
      ]
     },
     "execution_count": 35,
     "metadata": {},
     "output_type": "execute_result"
    }
   ],
   "source": [
    "data.shape #772087 registros"
   ]
  },
  {
   "cell_type": "code",
   "execution_count": 41,
   "metadata": {},
   "outputs": [
    {
     "data": {
      "text/html": [
       "<div>\n",
       "<style scoped>\n",
       "    .dataframe tbody tr th:only-of-type {\n",
       "        vertical-align: middle;\n",
       "    }\n",
       "\n",
       "    .dataframe tbody tr th {\n",
       "        vertical-align: top;\n",
       "    }\n",
       "\n",
       "    .dataframe thead th {\n",
       "        text-align: right;\n",
       "    }\n",
       "</style>\n",
       "<table border=\"1\" class=\"dataframe\">\n",
       "  <thead>\n",
       "    <tr style=\"text-align: right;\">\n",
       "      <th></th>\n",
       "      <th>Date</th>\n",
       "      <th>sulfate</th>\n",
       "      <th>nitrate</th>\n",
       "      <th>ID</th>\n",
       "    </tr>\n",
       "  </thead>\n",
       "  <tbody>\n",
       "    <tr>\n",
       "      <th>726</th>\n",
       "      <td>2004-12-27</td>\n",
       "      <td>NaN</td>\n",
       "      <td>NaN</td>\n",
       "      <td>332</td>\n",
       "    </tr>\n",
       "    <tr>\n",
       "      <th>727</th>\n",
       "      <td>2004-12-28</td>\n",
       "      <td>NaN</td>\n",
       "      <td>NaN</td>\n",
       "      <td>332</td>\n",
       "    </tr>\n",
       "    <tr>\n",
       "      <th>728</th>\n",
       "      <td>2004-12-29</td>\n",
       "      <td>NaN</td>\n",
       "      <td>NaN</td>\n",
       "      <td>332</td>\n",
       "    </tr>\n",
       "    <tr>\n",
       "      <th>729</th>\n",
       "      <td>2004-12-30</td>\n",
       "      <td>NaN</td>\n",
       "      <td>NaN</td>\n",
       "      <td>332</td>\n",
       "    </tr>\n",
       "    <tr>\n",
       "      <th>730</th>\n",
       "      <td>2004-12-31</td>\n",
       "      <td>NaN</td>\n",
       "      <td>NaN</td>\n",
       "      <td>332</td>\n",
       "    </tr>\n",
       "  </tbody>\n",
       "</table>\n",
       "</div>"
      ],
      "text/plain": [
       "           Date  sulfate  nitrate   ID\n",
       "726  2004-12-27      NaN      NaN  332\n",
       "727  2004-12-28      NaN      NaN  332\n",
       "728  2004-12-29      NaN      NaN  332\n",
       "729  2004-12-30      NaN      NaN  332\n",
       "730  2004-12-31      NaN      NaN  332"
      ]
     },
     "execution_count": 41,
     "metadata": {},
     "output_type": "execute_result"
    }
   ],
   "source": [
    "data.tail()"
   ]
  },
  {
   "cell_type": "code",
   "execution_count": 42,
   "metadata": {},
   "outputs": [],
   "source": [
    "#filepath=\"distributed-data/\"\n",
    "#data=pd.read_csv(\"distributed-data/001.csv\")\n",
    "\n",
    "#final_length=len(data)\n",
    "\n",
    "#for i in range(2,333):\n",
    "#    if i < 10:\n",
    "#        filename=\"00\"+str(i)\n",
    "#    if i>=10 and i<100:\n",
    "#        filename=\"0\"+str(i)\n",
    "#    if i>=100:\n",
    "#        filename=str(i)\n",
    "#    file=filepath+filename+\".csv\"\n",
    "#    temp_data=pd.read_csv(file)\n",
    "    \n",
    "#    final_length+=len(temp_data)\n",
    "    \n",
    "#    data = pd.concat([data, temp_data], axis=0)\n",
    "       \n",
    "filepath=\"C:/Users/Vic/Documents/CursoMachineLearning/Modulo 1/dataset/distributed-data/\"\n",
    "data=pd.read_csv(filepath+\"001.csv\")\n",
    "\n",
    "final_length=len(data)\n",
    "\n",
    "for i in range(2,333):\n",
    "    if i < 10:\n",
    "        filename=\"00\"+str(i)\n",
    "    if i > 10 and i<100:\n",
    "        filename=\"0\"+str(i)\n",
    "    if i > 100:\n",
    "        filename=str(i)\n",
    "    file=filepath+filename+\".csv\"\n",
    "    temp_data=pd.read_csv(file)\n",
    "    \n",
    "    final_length+=len(temp_data)\n",
    "    \n",
    "    data=pd.concat([data, temp_data], axis=0)    "
   ]
  },
  {
   "cell_type": "code",
   "execution_count": 43,
   "metadata": {},
   "outputs": [
    {
     "data": {
      "text/plain": [
       "True"
      ]
     },
     "execution_count": 43,
     "metadata": {},
     "output_type": "execute_result"
    }
   ],
   "source": [
    "#Para comprobar la union correcta de todos los datasets\n",
    "final_length==data.shape[0]"
   ]
  },
  {
   "cell_type": "code",
   "execution_count": 16,
   "metadata": {},
   "outputs": [],
   "source": [
    "#Las empresas grandes (netflix, bancos, etc) trabajan con csv.\n",
    "#Con powerBi se pueden hacer validaciones similar a excel.\n",
    "#ML es netamente csv.\n",
    "#El cargado de duplicados. En la clase de dumificacon y datawranglin trabajar la limpieza de datos.\n",
    "#Para el control de duplicado construir un algoritmo para el control de duplicados.\n",
    "#Gran parte de ML se dedica a la limpieza de datos.\n",
    "#Si el DS no esta bien hecho el algoritmo genera cualquier dato."
   ]
  },
  {
   "cell_type": "code",
   "execution_count": null,
   "metadata": {},
   "outputs": [],
   "source": []
  }
 ],
 "metadata": {
  "kernelspec": {
   "display_name": "Python 3",
   "language": "python",
   "name": "python3"
  },
  "language_info": {
   "codemirror_mode": {
    "name": "ipython",
    "version": 3
   },
   "file_extension": ".py",
   "mimetype": "text/x-python",
   "name": "python",
   "nbconvert_exporter": "python",
   "pygments_lexer": "ipython3",
   "version": "3.7.2"
  }
 },
 "nbformat": 4,
 "nbformat_minor": 2
}
