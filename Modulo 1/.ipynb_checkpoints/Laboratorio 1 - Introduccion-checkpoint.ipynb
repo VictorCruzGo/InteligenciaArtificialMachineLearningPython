{
 "cells": [
  {
   "cell_type": "markdown",
   "metadata": {},
   "source": [
    "# Laboratorio 1 - Introduccion"
   ]
  },
  {
   "cell_type": "code",
   "execution_count": 58,
   "metadata": {},
   "outputs": [],
   "source": [
    "#import numpy as np\n",
    "import numpy as np"
   ]
  },
  {
   "cell_type": "code",
   "execution_count": 79,
   "metadata": {},
   "outputs": [],
   "source": [
    "#lista=[1,2,3]\n",
    "lista=[1,2,3]\n",
    "lista2=[[1,1],[2,2],[3,3]]"
   ]
  },
  {
   "cell_type": "code",
   "execution_count": 80,
   "metadata": {},
   "outputs": [
    {
     "data": {
      "text/plain": [
       "[1, 2, 3]"
      ]
     },
     "execution_count": 80,
     "metadata": {},
     "output_type": "execute_result"
    }
   ],
   "source": [
    "#lista\n",
    "lista"
   ]
  },
  {
   "cell_type": "code",
   "execution_count": 61,
   "metadata": {},
   "outputs": [],
   "source": [
    "#array=np.array(lista)\n",
    "array=np.array(lista)"
   ]
  },
  {
   "cell_type": "code",
   "execution_count": 62,
   "metadata": {},
   "outputs": [
    {
     "data": {
      "text/plain": [
       "array([1, 2, 3])"
      ]
     },
     "execution_count": 62,
     "metadata": {},
     "output_type": "execute_result"
    }
   ],
   "source": [
    "#array\n",
    "array"
   ]
  },
  {
   "cell_type": "code",
   "execution_count": 64,
   "metadata": {},
   "outputs": [
    {
     "data": {
      "text/plain": [
       "[[1, 2, 3], [4, 5, 6], [7, 8, 9]]"
      ]
     },
     "execution_count": 64,
     "metadata": {},
     "output_type": "execute_result"
    }
   ],
   "source": [
    "#lista2=[[1,2,3],[4,5,6],[7,8,9]]\n",
    "lista2=[[1,2,3],[4,5,6],[7,8,9]]\n",
    "lista2"
   ]
  },
  {
   "cell_type": "code",
   "execution_count": 65,
   "metadata": {},
   "outputs": [],
   "source": [
    "#array2=np.array(lista2)\n",
    "array2=np.array(lista2)"
   ]
  },
  {
   "cell_type": "code",
   "execution_count": 67,
   "metadata": {},
   "outputs": [
    {
     "data": {
      "text/plain": [
       "array([[1, 2, 3],\n",
       "       [4, 5, 6],\n",
       "       [7, 8, 9]])"
      ]
     },
     "execution_count": 67,
     "metadata": {},
     "output_type": "execute_result"
    }
   ],
   "source": [
    "array2"
   ]
  },
  {
   "cell_type": "code",
   "execution_count": null,
   "metadata": {},
   "outputs": [],
   "source": []
  },
  {
   "cell_type": "code",
   "execution_count": 68,
   "metadata": {},
   "outputs": [],
   "source": [
    "#Genera rango de 5 numeros.\n",
    "#Siempre genera hasta -1 elementos.\n",
    "#Obj. llenar informacion o validar informacion desde el punto de vista de prediccion.\n",
    "#array=np.arange(5) \n",
    "array=np.arange(6)"
   ]
  },
  {
   "cell_type": "code",
   "execution_count": 69,
   "metadata": {},
   "outputs": [
    {
     "data": {
      "text/plain": [
       "array([0, 1, 2, 3, 4, 5])"
      ]
     },
     "execution_count": 69,
     "metadata": {},
     "output_type": "execute_result"
    }
   ],
   "source": [
    "array"
   ]
  },
  {
   "cell_type": "code",
   "execution_count": 71,
   "metadata": {},
   "outputs": [
    {
     "data": {
      "text/plain": [
       "array([2, 3, 4, 5, 6, 7, 8, 9])"
      ]
     },
     "execution_count": 71,
     "metadata": {},
     "output_type": "execute_result"
    }
   ],
   "source": [
    "#np.arange(2,10)\n",
    "np.arange(2,10)"
   ]
  },
  {
   "cell_type": "code",
   "execution_count": 72,
   "metadata": {},
   "outputs": [
    {
     "data": {
      "text/plain": [
       "array([1, 3, 5, 7, 9])"
      ]
     },
     "execution_count": 72,
     "metadata": {},
     "output_type": "execute_result"
    }
   ],
   "source": [
    "#np.arange(2,10,2)\n",
    "np.arange(1,10,2)"
   ]
  },
  {
   "cell_type": "code",
   "execution_count": 74,
   "metadata": {},
   "outputs": [
    {
     "data": {
      "text/plain": [
       "array([0., 0., 0., 0., 0., 0., 0., 0., 0., 0.])"
      ]
     },
     "execution_count": 74,
     "metadata": {},
     "output_type": "execute_result"
    }
   ],
   "source": [
    "#obj.Escalado de imagenes, granuladidad de imagenes.\n",
    "#En DL para el reconocimiento facial, se necesita implementar zeros.\n",
    "#np.zeros(3)\n",
    "np.zeros(10)"
   ]
  },
  {
   "cell_type": "code",
   "execution_count": 75,
   "metadata": {},
   "outputs": [
    {
     "data": {
      "text/plain": [
       "array([1., 1., 1., 1., 1.])"
      ]
     },
     "execution_count": 75,
     "metadata": {},
     "output_type": "execute_result"
    }
   ],
   "source": [
    "#np.ones(2)\n",
    "np.ones(5)"
   ]
  },
  {
   "cell_type": "code",
   "execution_count": 83,
   "metadata": {},
   "outputs": [
    {
     "data": {
      "text/plain": [
       "array([[1., 1., 1., 1., 1., 1.],\n",
       "       [1., 1., 1., 1., 1., 1.],\n",
       "       [1., 1., 1., 1., 1., 1.]])"
      ]
     },
     "execution_count": 83,
     "metadata": {},
     "output_type": "execute_result"
    }
   ],
   "source": [
    "#np.ones((2,5))\n",
    "np.ones((3,6))"
   ]
  },
  {
   "cell_type": "code",
   "execution_count": 86,
   "metadata": {},
   "outputs": [
    {
     "data": {
      "text/plain": [
       "array([10., 20., 30., 40.])"
      ]
     },
     "execution_count": 86,
     "metadata": {},
     "output_type": "execute_result"
    }
   ],
   "source": [
    "#obj. Genera numeros equiespaciados en un rango. \n",
    "#np.linspace(5,8,50)\n",
    "np.linspace(10,40,4)"
   ]
  },
  {
   "cell_type": "code",
   "execution_count": 90,
   "metadata": {},
   "outputs": [
    {
     "data": {
      "text/plain": [
       "array([[1., 0., 0., 0.],\n",
       "       [0., 1., 0., 0.],\n",
       "       [0., 0., 1., 0.],\n",
       "       [0., 0., 0., 1.]])"
      ]
     },
     "execution_count": 90,
     "metadata": {},
     "output_type": "execute_result"
    }
   ],
   "source": [
    "#obj. crear la matriz identidad.\n",
    "#Conocer algebra lineal. Matrices, suma, multiplicacion, identidad, inversa.\n",
    "#Conocer probabilidad y estadistica.\n",
    "#Conocer calculo 1. Derivadas y integrales. Para el analisis de informacion.\n",
    "#np.eye(10)\n",
    "#np.eye(4)\n",
    "np.identity(4)"
   ]
  },
  {
   "cell_type": "code",
   "execution_count": 96,
   "metadata": {},
   "outputs": [
    {
     "data": {
      "text/plain": [
       "array([0.57053935, 0.89041177, 0.49593669])"
      ]
     },
     "execution_count": 96,
     "metadata": {},
     "output_type": "execute_result"
    }
   ],
   "source": [
    "#Genera numeros aleatorios\n",
    "#np.random.rand(5)\n",
    "#np.random.rand(3)"
   ]
  },
  {
   "cell_type": "code",
   "execution_count": 102,
   "metadata": {},
   "outputs": [
    {
     "data": {
      "text/plain": [
       "array([[0.27502191, 0.61611958, 0.95727707, 0.64027349],\n",
       "       [0.40855939, 0.40852482, 0.50266297, 0.54423426],\n",
       "       [0.55523806, 0.79043299, 0.53333128, 0.80633389]])"
      ]
     },
     "execution_count": 102,
     "metadata": {},
     "output_type": "execute_result"
    }
   ],
   "source": [
    "#Crear una matriz 2 filas, 3 columnas\n",
    "#np.random.rand(2,3)\n",
    "np.random.rand(3,4)"
   ]
  },
  {
   "cell_type": "code",
   "execution_count": 108,
   "metadata": {},
   "outputs": [
    {
     "data": {
      "text/plain": [
       "array([-1.31848761e+00, -9.85745296e-01, -2.39634718e-01, -2.47734398e+00,\n",
       "        6.63695685e-01, -4.34856467e-01,  1.96772370e-01, -1.27167001e-01,\n",
       "        1.16572796e+00,  4.38951777e-01, -4.73387205e-01,  1.44548596e+00,\n",
       "        1.16003730e-01,  3.90419433e-01, -7.56805286e-01,  4.08488090e-01,\n",
       "       -5.79116686e-01, -4.61364451e-01,  7.73700078e-01, -1.66016225e+00,\n",
       "        2.26232146e-01,  6.54555986e-01, -5.54948814e-01,  3.58587536e-01,\n",
       "       -4.90714105e-01,  5.89157993e-01, -1.59910378e+00,  8.25616657e-01,\n",
       "       -6.26009298e-01,  8.87565868e-01,  5.96449278e-01, -2.02688811e-01,\n",
       "       -1.06684146e+00,  1.24167814e-01, -1.20227668e+00,  6.37685952e-01,\n",
       "       -3.96769563e-01,  1.76263291e+00, -5.67619108e-01,  9.32366879e-01,\n",
       "       -8.47876070e-01, -9.33817014e-01,  2.52361891e-01, -3.46329179e-01,\n",
       "       -2.28182125e+00,  1.09566202e+00,  9.61046044e-01,  1.23157192e-01,\n",
       "        2.49728903e+00,  4.80184730e-01, -1.19043568e+00,  5.32392050e-01,\n",
       "       -6.25754253e-01, -1.11298310e+00,  8.69784818e-01, -4.08322343e-01,\n",
       "       -6.34547459e-01, -1.16166749e+00, -8.93241245e-01,  1.14082365e+00,\n",
       "       -1.56563577e+00,  1.43804102e-01, -6.97096916e-01,  8.90339617e-01,\n",
       "        7.88450967e-01, -1.79853361e-01,  7.13851689e-01, -2.91412233e-01,\n",
       "        2.12589371e-01, -7.55649482e-01, -1.36500847e+00,  4.50121734e-01,\n",
       "        1.59430161e+00,  9.82203178e-01,  1.06619988e+00, -6.70533659e-01,\n",
       "        7.62319361e-01, -7.63667080e-01, -7.44308420e-02, -2.17611880e+00,\n",
       "        5.94402593e-01,  6.24289183e-01,  1.88559481e-01, -1.62955326e+00,\n",
       "        1.04648655e+00, -9.65834810e-01, -6.35977966e-02, -1.94418322e+00,\n",
       "        1.10100861e-01,  2.20216107e-01,  7.58718413e-01,  1.81718891e+00,\n",
       "        2.22486894e-02,  2.43421705e-03,  5.74477017e-01,  1.27513020e+00,\n",
       "       -7.19280755e-01, -8.59540529e-01,  8.86151647e-01,  2.24883470e-01])"
      ]
     },
     "execution_count": 108,
     "metadata": {},
     "output_type": "execute_result"
    }
   ],
   "source": [
    "#Crear numeros aleatorios con una distribucion normal.\n",
    "#DN tratan de tener una distribucion equidistinta para acercarse a la campana de gauss\n",
    "#np.random.randn(4)\n",
    "np.random.randn(100)"
   ]
  },
  {
   "cell_type": "code",
   "execution_count": 112,
   "metadata": {},
   "outputs": [
    {
     "data": {
      "text/plain": [
       "8"
      ]
     },
     "execution_count": 112,
     "metadata": {},
     "output_type": "execute_result"
    }
   ],
   "source": [
    "#Numero aleatorio entre el 1 y 10\n",
    "#np.random.randint(1,10)\n",
    "np.random.randint(1,10)"
   ]
  },
  {
   "cell_type": "code",
   "execution_count": 113,
   "metadata": {},
   "outputs": [
    {
     "data": {
      "text/plain": [
       "array([3, 5])"
      ]
     },
     "execution_count": 113,
     "metadata": {},
     "output_type": "execute_result"
    }
   ],
   "source": [
    "#Tres numeros aleatorios entre el 1 y 10\n",
    "#np.random.randint(1,10,3)\n",
    "np.random.randint(1,10,2)"
   ]
  },
  {
   "cell_type": "code",
   "execution_count": 118,
   "metadata": {},
   "outputs": [],
   "source": [
    "#array=np.random.randint(1,100,50)\n",
    "array=np.random.randint(1,100,10)"
   ]
  },
  {
   "cell_type": "code",
   "execution_count": 123,
   "metadata": {},
   "outputs": [
    {
     "data": {
      "text/plain": [
       "array([71, 85, 81, 89, 59, 15, 27, 78, 14, 63])"
      ]
     },
     "execution_count": 123,
     "metadata": {},
     "output_type": "execute_result"
    }
   ],
   "source": [
    "array"
   ]
  },
  {
   "cell_type": "code",
   "execution_count": 121,
   "metadata": {},
   "outputs": [
    {
     "data": {
      "text/plain": [
       "89"
      ]
     },
     "execution_count": 121,
     "metadata": {},
     "output_type": "execute_result"
    }
   ],
   "source": [
    "#Obtener el valor maximo\n",
    "#valor_maximo=array.max()\n",
    "#valor_maximo\n",
    "valor_maximo=array.max()\n",
    "valor_maximo"
   ]
  },
  {
   "cell_type": "code",
   "execution_count": 128,
   "metadata": {},
   "outputs": [
    {
     "data": {
      "text/plain": [
       "14"
      ]
     },
     "execution_count": 128,
     "metadata": {},
     "output_type": "execute_result"
    }
   ],
   "source": [
    "#valor_minimo=array.min()\n",
    "#valor_minimo\n",
    "valor_minimo=array.min()\n",
    "valor_minimo"
   ]
  },
  {
   "cell_type": "code",
   "execution_count": 129,
   "metadata": {},
   "outputs": [
    {
     "data": {
      "text/plain": [
       "array([0, 1, 2, 3, 4])"
      ]
     },
     "execution_count": 129,
     "metadata": {},
     "output_type": "execute_result"
    }
   ],
   "source": [
    "#Rango de numero del 0 al 10\n",
    "#array=np.arange(0,10)\n",
    "#array\n",
    "array=np.arange(0,5)\n",
    "array"
   ]
  },
  {
   "cell_type": "code",
   "execution_count": 130,
   "metadata": {},
   "outputs": [
    {
     "data": {
      "text/plain": [
       "array([0, 2, 4, 6, 8])"
      ]
     },
     "execution_count": 130,
     "metadata": {},
     "output_type": "execute_result"
    }
   ],
   "source": [
    "#array+array\n",
    "array+array"
   ]
  },
  {
   "cell_type": "code",
   "execution_count": 131,
   "metadata": {},
   "outputs": [
    {
     "data": {
      "text/plain": [
       "array([0, 0, 0, 0, 0])"
      ]
     },
     "execution_count": 131,
     "metadata": {},
     "output_type": "execute_result"
    }
   ],
   "source": [
    "#array-array\n",
    "array-array"
   ]
  },
  {
   "cell_type": "code",
   "execution_count": 132,
   "metadata": {},
   "outputs": [
    {
     "data": {
      "text/plain": [
       "array([1, 2, 3, 4, 5])"
      ]
     },
     "execution_count": 132,
     "metadata": {},
     "output_type": "execute_result"
    }
   ],
   "source": [
    "#array+5\n",
    "array+1"
   ]
  },
  {
   "cell_type": "code",
   "execution_count": null,
   "metadata": {},
   "outputs": [],
   "source": []
  }
 ],
 "metadata": {
  "kernelspec": {
   "display_name": "Python 3",
   "language": "python",
   "name": "python3"
  },
  "language_info": {
   "codemirror_mode": {
    "name": "ipython",
    "version": 3
   },
   "file_extension": ".py",
   "mimetype": "text/x-python",
   "name": "python",
   "nbconvert_exporter": "python",
   "pygments_lexer": "ipython3",
   "version": "3.7.2"
  }
 },
 "nbformat": 4,
 "nbformat_minor": 2
}
