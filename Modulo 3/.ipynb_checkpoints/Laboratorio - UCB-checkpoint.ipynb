{
 "cells": [
  {
   "cell_type": "code",
   "execution_count": 1,
   "metadata": {},
   "outputs": [],
   "source": [
    "import pandas as pd\n",
    "import numpy as np\n",
    "import matplotlib.pyplot as plt"
   ]
  },
  {
   "cell_type": "code",
   "execution_count": null,
   "metadata": {},
   "outputs": [],
   "source": [
    "dataset=pd.read_csv('Ads_CRT_Optimization.csv')"
   ]
  },
  {
   "cell_type": "code",
   "execution_count": null,
   "metadata": {},
   "outputs": [],
   "source": [
    "#Hay 10 anuncios que se mostro a diferentes usuarios\n",
    "#10000 usuarios.\n",
    "#Al usuario 0 se le ha presentado la 1,2,3,4,... publicidad. cada publidad es calificado (1=me gusto; 0=no me gusto)\n",
    "dataset.head()"
   ]
  },
  {
   "cell_type": "code",
   "execution_count": null,
   "metadata": {},
   "outputs": [],
   "source": [
    "dataset.shape"
   ]
  },
  {
   "cell_type": "markdown",
   "metadata": {},
   "source": [
    "### Solucion desde el punto del vista de un programador"
   ]
  },
  {
   "cell_type": "code",
   "execution_count": null,
   "metadata": {},
   "outputs": [],
   "source": [
    "#Objetivo, coca cola necesita maximizar cual es la publicidad ganadora.\n",
    "#Manejo de datos aleatorios.\n",
    "import random\n",
    "N=10000 #usuarios \n",
    "d=10 #publicidades\n",
    "ads_selected=[]#diccionario\n",
    "total_reward=0 #recompensas\n",
    "\n",
    "#Para cada uno de los 10k usuarios\n",
    "for n in range(0,N):\n",
    "    ad=random.randrange(d)#seleccionar de manera aleatoria una publicidad.\n",
    "    ads_selected.append(ad)#agregar a la lista la publicidad seleccionada de forma aleatoria.\n",
    "    reward=dataset.values[n,ad] #agarrar un anuncio y usuario determinado para dar recompensa."
   ]
  },
  {
   "cell_type": "code",
   "execution_count": null,
   "metadata": {},
   "outputs": [],
   "source": [
    "total_reward\n",
    "#1193.\n",
    "#De los 10000 usuarios 1193 usuario han echo click por lo menos en algunos de los anuncios."
   ]
  },
  {
   "cell_type": "code",
   "execution_count": null,
   "metadata": {},
   "outputs": [],
   "source": [
    "plt.hist(ads_selected)\n",
    "plt.title('Histograma de seleccion de anuncios')\n",
    "plt.xlabel('Anuncio')\n",
    "plt.ylabel('Numero de veces que ha sido visualizado.')\n",
    "plt.show()"
   ]
  },
  {
   "cell_type": "markdown",
   "metadata": {},
   "source": [
    "### Solucion con UCB (Upper Confidence Bound)"
   ]
  },
  {
   "cell_type": "code",
   "execution_count": null,
   "metadata": {},
   "outputs": [],
   "source": [
    "number_of_selections=[0]*d #Lista inicializado con valores de cero. d es la cantidad de publicidad.\n",
    "sums_of_rewards=[0]*d #Cada vez que se haga clic hay que registrar una recompensa.\n",
    "ads_selected=[] #anuncios seleccionados\n",
    "total_reward=0\n",
    "\n",
    "#Generalemnte las primeras 10 rondas no se esta tomando.\n",
    "\n",
    "#------Paso 1------\n",
    "#A cada ronda n, se consideran dos numeros para cada i. \n",
    "    #Ni=number_of_selection\n",
    "    #Ri=suma_of_rewards\n",
    "#Para cada uno de los 10k usuarios\n",
    "for n in range(0,N):    \n",
    "    max_upper_bound=0#maximo limite de la ronda\n",
    "    ad=0 #anuncio inicial\n",
    "    \n",
    "    #------Paso 2------\n",
    "    #Apartir de Ni y Ri calcular la recompensa media (ri) e intervalo de confianza en la ronda n.\n",
    "    #Intervalo de confianza: ri - delta, ri + delta\n",
    "    #A cada usuario presentar una publicida\n",
    "    for i in range(0,d):\n",
    "        if(number_of_selections[i]>0): #En las primeras 10 iteraciones el valor es 0,0,0\n",
    "            average_reward=suma_of_rewards[i]/number_of_selections[i] #Recompensa media (ri)\n",
    "            delta_i=math.sqrt(3/2*math.log(n+1)/number_of_selections[i])#formula deltai(n)\n",
    "            #limite de confianza superior.\n",
    "            upper_bound=average_reward+delta_i #es el UCB, recompensa media sumado a deltai(n). ri(n)+deltai(n)\n",
    "        else:\n",
    "            upper_bound=1e400 #numero de euler. Inicializacion o verificacion inversa.\n",
    "        \n",
    "        #Si es mayor hacer el remplazo y asignar la publicidad a la varable ad.\n",
    "        #Los niveles de confianza se tiene que ir reduciendo.\n",
    "        if upper_bound>max_upper_bound:\n",
    "            max_upper_bound=upper_bound\n",
    "            ad=i\n",
    "    \n",
    "    ads_selected.append(ad)#adicionamos la publicidad\n",
    "    number_of_selections[ad]=number_of_selections[ad]+1 #click que ha sido seleccinado por un determinado por un usuario\n",
    "    reward=dataset.values[n,ad]#si le gusto, se asigna la recompensa.\n",
    "    sums_of_rewards[ad]=sums_of_rewards[ad]+reward\n",
    "    total_reward=total_reward+reward #total de recompensas + el total del asignado al anuncio.\n",
    "    \n",
    "    #------Paso 3------    \n",
    "    #Se selecciona el anuncio i con mayor limite superior del intervalo de confianza (UCB=limite superior de confianza.)"
   ]
  },
  {
   "cell_type": "code",
   "execution_count": null,
   "metadata": {},
   "outputs": [],
   "source": [
    "total_reward\n",
    "#2178 usuario han echo clic, se ha mejorado aplicando UCB"
   ]
  },
  {
   "cell_type": "code",
   "execution_count": null,
   "metadata": {},
   "outputs": [],
   "source": [
    "#Anuncion seleccionados dentro de la ronda.\n",
    "pd.DataFrame(ads_selected).head()"
   ]
  },
  {
   "cell_type": "code",
   "execution_count": null,
   "metadata": {},
   "outputs": [],
   "source": [
    "plt.hist(ads_selected)\n",
    "plt.title('Histograma de Anuncios')\n",
    "plt.xlabel('ID del anuncio')\n",
    "plt.ylabel('Frecuencia de visualizacion del anuncio')\n",
    "plt.show()\n",
    "\n",
    "#El ganador es el anuncio id 4 (anuncio 5)\n",
    "#Coca Cola tomaria la desicion del anuncion 5 es el que se publicara a fin de anio."
   ]
  },
  {
   "cell_type": "code",
   "execution_count": null,
   "metadata": {},
   "outputs": [],
   "source": [
    "#Investigar - Hacer el ejercicio con el muestreo de Tomson"
   ]
  }
 ],
 "metadata": {
  "kernelspec": {
   "display_name": "Python 3",
   "language": "python",
   "name": "python3"
  },
  "language_info": {
   "codemirror_mode": {
    "name": "ipython",
    "version": 3
   },
   "file_extension": ".py",
   "mimetype": "text/x-python",
   "name": "python",
   "nbconvert_exporter": "python",
   "pygments_lexer": "ipython3",
   "version": "3.8.3"
  }
 },
 "nbformat": 4,
 "nbformat_minor": 4
}
