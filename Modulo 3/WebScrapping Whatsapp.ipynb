{
 "cells": [
  {
   "cell_type": "code",
   "execution_count": 1,
   "metadata": {},
   "outputs": [],
   "source": [
    "import urllib.request\n",
    "from bs4 import BeautifulSoup\n",
    "import os"
   ]
  },
  {
   "cell_type": "code",
   "execution_count": 2,
   "metadata": {},
   "outputs": [],
   "source": [
    "response=urllib.request.urlopen('https://web.whatsapp.com/')\n",
    "html=response.read()\n",
    "soup = BeautifulSoup(html,'html5lib')"
   ]
  },
  {
   "cell_type": "code",
   "execution_count": 3,
   "metadata": {},
   "outputs": [
    {
     "data": {
      "text/plain": [
       "<!DOCTYPE html>\n",
       "<!--[if lt IE 7]>      <html class=\"no-js lt-ie9 lt-ie8 lt-ie7\"> <![endif]--><!--[if IE 7]>         <html class=\"no-js lt-ie9 lt-ie8\"> <![endif]--><!--[if IE 8]>         <html class=\"no-js lt-ie9\"> <![endif]--><!--[if gt IE 8]><!--><html class=\"no-js\" dir=\"ltr\"><!--<![endif]--><head><meta charset=\"utf-8\"/><meta content=\"IE=edge,chrome=1\" http-equiv=\"X-UA-Compatible\"/><title>WhatsApp Web</title><meta content=\"width=device-width\" name=\"viewport\"/><meta content=\"notranslate\" name=\"google\"/><meta content=\"Quickly send and receive WhatsApp messages right from your computer.\" name=\"description\"/><meta content=\"Quickly send and receive WhatsApp messages right from your computer.\" name=\"og:description\"/><meta content=\"https://web.whatsapp.com/\" name=\"og:url\"/><meta content=\"WhatsApp Web\" name=\"og:title\"/><meta content=\"https://static.facebook.com/images/whatsapp/www/whatsapp-promo.png\" name=\"og:image\"/><link href=\"/img/favicon/1x/favicon.png\" rel=\"icon\" sizes=\"16x16\" type=\"image/png\"/><link href=\"/img/favicon/2x/favicon.png\" rel=\"icon\" sizes=\"32x32\" type=\"image/png\"/><link href=\"/favicon.ico\" rel=\"shortcut icon\" type=\"image/x-icon\"/><link href=\"/apple-touch-icon.png\" rel=\"apple-touch-icon\" sizes=\"194x194\" type=\"image/png\"/><link href=\"/browsers_b6a0fca4a669e0d2cb8e.css\" rel=\"stylesheet\"/><link href=\"https://web.whatsapp.com\" hreflang=\"x-default\" rel=\"alternate\"/><link href=\"https://web.whatsapp.com/%F0%9F%8C%90/en\" hreflang=\"en\" rel=\"alternate\"/><link href=\"https://web.whatsapp.com/%F0%9F%8C%90/ar\" hreflang=\"ar\" rel=\"alternate\"/></head><body page=\"page-browsers\"><div id=\"app\"><div class=\"app-wrapper\"><div class=\"landing-wrapper\"><div class=\"landing-header\"><span class=\"landing-icon\"><img alt=\"WhatsApp\" class=\"landing-logo\" src=\"/img/logo-whatsapp.png\"/></span><div class=\"landing-headerTitle\">WhatsApp Web</div></div><div class=\"landing-window\"><div class=\"landing-main\"><h1 class=\"landing-title browsers-title\">Browser not supported</h1><div class=\"text-tip\">We recommend using WhatsApp with one of the following browsers:</div><div class=\"browsers\"><div class=\"browser\"><a class=\"image\" href=\"http://www.google.com/chrome/\" target=\"_blank\"><img class=\"image-logo\" src=\"/img/logo-chrome.png\"/> </a><a class=\"browser-title\" href=\"http://www.google.com/chrome/\" target=\"_blank\">Google Chrome</a></div><div class=\"browser\"><a class=\"image\" href=\"http://www.firefox.com\" target=\"_blank\"><img class=\"image-logo\" src=\"/img/logo-firefox.png\"/> </a><a class=\"browser-title\" href=\"http://www.firefox.com\" target=\"_blank\">Mozilla Firefox</a></div><div class=\"browser\"><a class=\"image\" href=\"http://www.opera.com\" target=\"_blank\"><img class=\"image-logo\" src=\"/img/logo-opera.png\"/> </a><a class=\"browser-title\" href=\"http://www.opera.com\" target=\"_blank\">Opera</a></div></div><div class=\"text-tip\">WhatsApp also supports:</div><div class=\"browsers browsers-last\"><div class=\"browser\"><a class=\"image\" href=\"https://www.microsoft.com/en-us/windows/microsoft-edge\" target=\"_blank\"><img class=\"image-logo\" src=\"/img/logo-edge.png\"/> </a><a class=\"browser-title\" href=\"https://www.microsoft.com/en-us/windows/microsoft-edge\" target=\"_blank\">Microsoft Edge</a></div><div class=\"browser browser-safari\"><a class=\"image\" href=\"https://support.apple.com/downloads/#safari\" target=\"_blank\"><img class=\"image-logo\" src=\"/img/logo-safari.png\"/> </a><a class=\"browser-title\" href=\"https://support.apple.com/downloads/#safari\" target=\"_blank\">Safari (macOS 10.8+ Only)</a></div></div></div></div></div></div></div></body></html>"
      ]
     },
     "execution_count": 3,
     "metadata": {},
     "output_type": "execute_result"
    }
   ],
   "source": []
  },
  {
   "cell_type": "code",
   "execution_count": null,
   "metadata": {},
   "outputs": [],
   "source": []
  }
 ],
 "metadata": {
  "kernelspec": {
   "display_name": "Python 3",
   "language": "python",
   "name": "python3"
  },
  "language_info": {
   "codemirror_mode": {
    "name": "ipython",
    "version": 3
   },
   "file_extension": ".py",
   "mimetype": "text/x-python",
   "name": "python",
   "nbconvert_exporter": "python",
   "pygments_lexer": "ipython3",
   "version": "3.8.3"
  }
 },
 "nbformat": 4,
 "nbformat_minor": 4
}
