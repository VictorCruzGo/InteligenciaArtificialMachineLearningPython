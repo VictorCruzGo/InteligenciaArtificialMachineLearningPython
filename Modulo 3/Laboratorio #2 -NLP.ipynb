{
 "cells": [
  {
   "cell_type": "code",
   "execution_count": 3,
   "metadata": {},
   "outputs": [],
   "source": [
    "from nltk.tokenize import sent_tokenize"
   ]
  },
  {
   "cell_type": "code",
   "execution_count": 9,
   "metadata": {},
   "outputs": [
    {
     "name": "stdout",
     "output_type": "stream",
     "text": [
      "['Hello Adam, how are you?', 'I hope everthing is going well.', 'Today is good day, see you dude']\n"
     ]
    }
   ],
   "source": [
    "#Obtener ORACIONES del texto\n",
    "text = \"Hello Adam, how are you? I hope everthing is going well. Today is good day, see you dude\"\n",
    "print(sent_tokenize(text))"
   ]
  },
  {
   "cell_type": "code",
   "execution_count": 10,
   "metadata": {},
   "outputs": [
    {
     "name": "stdout",
     "output_type": "stream",
     "text": [
      "['Hello Mr. Adam, how are you?', 'I hope everthing is going well.', 'Today is good day, see you dude']\n"
     ]
    }
   ],
   "source": [
    "#Obtener ORACIONES del texto. 'Mr.'\n",
    "text = \"Hello Mr. Adam, how are you? I hope everthing is going well. Today is good day, see you dude\"\n",
    "\n",
    "print(sent_tokenize(text))"
   ]
  },
  {
   "cell_type": "code",
   "execution_count": 11,
   "metadata": {},
   "outputs": [
    {
     "name": "stdout",
     "output_type": "stream",
     "text": [
      "['Hello', 'Mr.', 'Adam', ',', 'how', 'are', 'you', '?', 'I', 'hope', 'everthing', 'is', 'going', 'well', '.', 'Today', 'is', 'good', 'day', ',', 'see', 'you', 'dude']\n"
     ]
    }
   ],
   "source": [
    "#Obtener PALABRAS DEL texto\n",
    "from nltk.tokenize import word_tokenize\n",
    "\n",
    "text = \"Hello Mr. Adam, how are you? I hope everthing is going well. Today is good day, see you dude\"\n",
    "\n",
    "print(word_tokenize(text))"
   ]
  },
  {
   "cell_type": "code",
   "execution_count": 20,
   "metadata": {},
   "outputs": [
    {
     "name": "stdout",
     "output_type": "stream",
     "text": [
      "any mechanical or electrical device that transmits or modifies energy to perform or assist in the performance of human tasks\n",
      "[]\n"
     ]
    }
   ],
   "source": [
    "#wordnet es una base de datos lexica del idioma ingles que proporciona difiniciones cortas.\n",
    "from nltk.corpus import wordnet\n",
    "\n",
    "syn = wordnet.synsets(\"machine\")\n",
    "\n",
    "print(syn[0].definition())\n",
    "print(syn[0].examples())\n"
   ]
  },
  {
   "cell_type": "code",
   "execution_count": 22,
   "metadata": {},
   "outputs": [
    {
     "name": "stdout",
     "output_type": "stream",
     "text": [
      "['large', 'big', 'big']\n"
     ]
    }
   ],
   "source": [
    "#Obtener antonimos\n",
    "from nltk.corpus import wordnet\n",
    "antonyms=[]\n",
    "\n",
    "for syn in wordnet.synsets(\"small\"):\n",
    "    for l in syn.lemmas():\n",
    "        if l.antonyms():\n",
    "            antonyms.append(l.antonyms()[0].name())\n",
    "print(antonyms)"
   ]
  },
  {
   "cell_type": "code",
   "execution_count": null,
   "metadata": {},
   "outputs": [],
   "source": []
  }
 ],
 "metadata": {
  "kernelspec": {
   "display_name": "Python 3",
   "language": "python",
   "name": "python3"
  },
  "language_info": {
   "codemirror_mode": {
    "name": "ipython",
    "version": 3
   },
   "file_extension": ".py",
   "mimetype": "text/x-python",
   "name": "python",
   "nbconvert_exporter": "python",
   "pygments_lexer": "ipython3",
   "version": "3.8.3"
  }
 },
 "nbformat": 4,
 "nbformat_minor": 4
}
