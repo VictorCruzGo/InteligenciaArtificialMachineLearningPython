{
 "cells": [
  {
   "cell_type": "markdown",
   "metadata": {},
   "source": [
    "Modulo IV - DeepLearning\n",
    "\n",
    "Victor Cruz Gomez\n",
    "\n",
    "------------------------------------------------------------------------------------------------\n",
    "\n",
    "# Deep Learning para la evaluación de clasificación de imágenes\n",
    "\n",
    "\n",
    "¡Bienvenido! Sigue las instrucciones en negrita para completar el ejercicio.\n",
    "\n",
    "------------\n",
    "\n",
    "## El Reto\n",
    "\n",
    "**Tu tarea es construir un clasificador de imágenes con Keras y Redes neuronales convolucionales para el conjunto de datos Fashion MNIST. Este conjunto de datos incluye 10 etiquetas de diferentes tipos de ropa con imágenes de 28 por 28 * en escala de grises *. Hay un conjunto de entrenamiento de 60,000 imágenes y 10,000 imágenes de prueba.**\n",
    "\n",
    "    Label\tDescription\n",
    "    0\t    T-shirt/top\n",
    "    1\t    Trouser\n",
    "    2\t    Pullover\n",
    "    3\t    Dress\n",
    "    4\t    Coat\n",
    "    5\t    Sandal\n",
    "    6\t    Shirt\n",
    "    7\t    Sneaker\n",
    "    8\t    Bag\n",
    "    9\t    Ankle boot\n",
    "    \n",
    " "
   ]
  },
  {
   "cell_type": "markdown",
   "metadata": {},
   "source": [
    "## Los Datos\n",
    "\n",
    "**TAREA 1: Ejecute el siguiente código para descargar el conjunto de datos usando Keras.**"
   ]
  },
  {
   "cell_type": "code",
   "execution_count": 71,
   "metadata": {},
   "outputs": [],
   "source": [
    "#Cargar la imagenes en variables de train y test.\n",
    "from keras.datasets import fashion_mnist\n",
    "\n",
    "(x_train, y_train), (x_test, y_test) = fashion_mnist.load_data()"
   ]
  },
  {
   "cell_type": "markdown",
   "metadata": {},
   "source": [
    "## Visualización de datos\n",
    "\n",
    "**TAREA 2: Use matplotlib para ver una imagen del conjunto de datos. Puede ser cualquier imagen del conjunto de datos.**"
   ]
  },
  {
   "cell_type": "code",
   "execution_count": 72,
   "metadata": {},
   "outputs": [],
   "source": [
    "import matplotlib.pyplot as plt\n",
    "%matplotlib inline"
   ]
  },
  {
   "cell_type": "code",
   "execution_count": 73,
   "metadata": {},
   "outputs": [
    {
     "data": {
      "text/plain": [
       "<matplotlib.image.AxesImage at 0x1abcb62cf70>"
      ]
     },
     "execution_count": 73,
     "metadata": {},
     "output_type": "execute_result"
    },
    {
     "data": {
      "image/png": "[encoded data removed]",
      "text/plain": [
       "<Figure size 432x288 with 1 Axes>"
      ]
     },
     "metadata": {
      "needs_background": "light"
     },
     "output_type": "display_data"
    }
   ],
   "source": [
    "#Mostrar imagen de la posicion 0 del dataset x_train \n",
    "plt.imshow(x_train[0])"
   ]
  },
  {
   "cell_type": "code",
   "execution_count": 74,
   "metadata": {},
   "outputs": [
    {
     "data": {
      "text/plain": [
       "(28, 28)"
      ]
     },
     "execution_count": 74,
     "metadata": {},
     "output_type": "execute_result"
    }
   ],
   "source": [
    "#Mostrar el tamano de la imagen\n",
    "x_train[0].shape"
   ]
  },
  {
   "cell_type": "markdown",
   "metadata": {},
   "source": [
    "## Preprocesamiento de datos\n",
    "\n",
    "**TAREA 3: Normalice los datos de entrenamiento y prueba de X dividiéndolos por el valor máximo de las matrices de imágenes**"
   ]
  },
  {
   "cell_type": "code",
   "execution_count": 75,
   "metadata": {},
   "outputs": [
    {
     "data": {
      "text/plain": [
       "255"
      ]
     },
     "execution_count": 75,
     "metadata": {},
     "output_type": "execute_result"
    }
   ],
   "source": [
    "#Para la normalizacion hay que dividir entre en numero maximo de pixeles.\n",
    "\n",
    "#Valor maximo de la imagen de la posicion 0.\n",
    "x_train[0].max()"
   ]
  },
  {
   "cell_type": "code",
   "execution_count": 76,
   "metadata": {},
   "outputs": [],
   "source": [
    "#Normalizacion de x_train\n",
    "x_train=x_train/255"
   ]
  },
  {
   "cell_type": "code",
   "execution_count": 77,
   "metadata": {},
   "outputs": [],
   "source": [
    "#Normalizacion de x_test\n",
    "x_test=x_test/255"
   ]
  },
  {
   "cell_type": "code",
   "execution_count": 78,
   "metadata": {},
   "outputs": [
    {
     "data": {
      "text/plain": [
       "(60000, 28, 28)"
      ]
     },
     "execution_count": 78,
     "metadata": {},
     "output_type": "execute_result"
    }
   ],
   "source": [
    "#Mostrar la cantidad de imagenes de x_train\n",
    "x_train.shape"
   ]
  },
  {
   "cell_type": "code",
   "execution_count": 79,
   "metadata": {},
   "outputs": [
    {
     "data": {
      "text/plain": [
       "(10000, 28, 28)"
      ]
     },
     "execution_count": 79,
     "metadata": {},
     "output_type": "execute_result"
    }
   ],
   "source": [
    "#Mostrar la cantidad de imagnes de x_test\n",
    "x_test.shape"
   ]
  },
  {
   "cell_type": "markdown",
   "metadata": {},
   "source": [
    "**Tarea 4: Redimensionar las matrices X para incluir una dimensión 4 del canal individual. Similar a lo que hicimos para el conjunto de datos de números MNIST.**"
   ]
  },
  {
   "cell_type": "code",
   "execution_count": 80,
   "metadata": {},
   "outputs": [],
   "source": [
    "#Adicion de canal individual al dataset x_train\n",
    "x_train = x_train.reshape(60000,28,28,1)"
   ]
  },
  {
   "cell_type": "code",
   "execution_count": 81,
   "metadata": {},
   "outputs": [
    {
     "data": {
      "text/plain": [
       "(60000, 28, 28, 1)"
      ]
     },
     "execution_count": 81,
     "metadata": {},
     "output_type": "execute_result"
    }
   ],
   "source": [
    "x_train.shape"
   ]
  },
  {
   "cell_type": "code",
   "execution_count": 82,
   "metadata": {},
   "outputs": [],
   "source": [
    "#Adicion de canal individual al dataset x_test\n",
    "x_test = x_test.reshape(10000,28,28,1)"
   ]
  },
  {
   "cell_type": "code",
   "execution_count": 83,
   "metadata": {},
   "outputs": [
    {
     "data": {
      "text/plain": [
       "(10000, 28, 28, 1)"
      ]
     },
     "execution_count": 83,
     "metadata": {},
     "output_type": "execute_result"
    }
   ],
   "source": [
    "x_test.shape"
   ]
  },
  {
   "cell_type": "markdown",
   "metadata": {},
   "source": [
    "**TAREA 5: Convierta los valores y_train e y_test para que estén codificados y poder realizar el análisis categórico de Keras.**"
   ]
  },
  {
   "cell_type": "code",
   "execution_count": 84,
   "metadata": {},
   "outputs": [],
   "source": [
    "#Consiste en transformar las etiquetas 'Y' en un vector de tantos ceros como el número de etiquetas distinta\n",
    "#, y que contiene el valor de 1 en el índice que le corresponde al valor de la etiqueta.\n",
    "\n",
    "from keras.utils.np_utils import to_categorical"
   ]
  },
  {
   "cell_type": "code",
   "execution_count": 85,
   "metadata": {},
   "outputs": [
    {
     "data": {
      "text/plain": [
       "array([9, 0, 0, ..., 3, 0, 5], dtype=uint8)"
      ]
     },
     "execution_count": 85,
     "metadata": {},
     "output_type": "execute_result"
    }
   ],
   "source": [
    "y_train"
   ]
  },
  {
   "cell_type": "code",
   "execution_count": 86,
   "metadata": {},
   "outputs": [
    {
     "data": {
      "text/plain": [
       "array([9, 2, 1, ..., 8, 1, 5], dtype=uint8)"
      ]
     },
     "execution_count": 86,
     "metadata": {},
     "output_type": "execute_result"
    }
   ],
   "source": [
    "y_test"
   ]
  },
  {
   "cell_type": "code",
   "execution_count": 87,
   "metadata": {},
   "outputs": [],
   "source": [
    "y_cat_train=to_categorical(y_train,10)"
   ]
  },
  {
   "cell_type": "code",
   "execution_count": 88,
   "metadata": {},
   "outputs": [],
   "source": [
    "y_cat_test=to_categorical(y_test,10)"
   ]
  },
  {
   "cell_type": "code",
   "execution_count": 89,
   "metadata": {},
   "outputs": [
    {
     "data": {
      "text/plain": [
       "9"
      ]
     },
     "execution_count": 89,
     "metadata": {},
     "output_type": "execute_result"
    }
   ],
   "source": [
    "y_train[0]"
   ]
  },
  {
   "cell_type": "code",
   "execution_count": 90,
   "metadata": {},
   "outputs": [
    {
     "data": {
      "text/plain": [
       "array([0., 0., 0., 0., 0., 0., 0., 0., 0., 1.], dtype=float32)"
      ]
     },
     "execution_count": 90,
     "metadata": {},
     "output_type": "execute_result"
    }
   ],
   "source": [
    "y_cat_train[0]"
   ]
  },
  {
   "cell_type": "markdown",
   "metadata": {},
   "source": [
    "## Construyendo el modelo\n",
    "\n",
    "**TAREA 5: Use Keras para crear un modelo que conste de al menos las siguientes capas:**\n",
    "\n",
    "* 2D Convolutional Layer, filters=32 and kernel_size=(4,4)\n",
    "* Pooling Layer where pool_size = (2,2)\n",
    "\n",
    "* Flatten Layer\n",
    "* Dense Layer (128 Neurons), RELU activation\n",
    "\n",
    "* Final Dense Layer of 10 Neurons con softmax activation\n",
    "\n",
    "**Luego compila la RN con los siguientes parámetros: loss='categorical_crossentropy', optimizer='rmsprop', metrics=['accuracy']**"
   ]
  },
  {
   "cell_type": "code",
   "execution_count": 91,
   "metadata": {},
   "outputs": [],
   "source": [
    "from keras.models import Sequential #Inicalizcion del a red neuronal\n",
    "from keras.layers import Conv2D #Capa de convolucion\n",
    "from keras.layers import MaxPool2D #Matrices pooleadas\n",
    "from keras.layers import Flatten #Aplanar los datos\n",
    "from keras.layers import Dense #Capa de la red neuronal"
   ]
  },
  {
   "cell_type": "code",
   "execution_count": 92,
   "metadata": {},
   "outputs": [],
   "source": [
    "#Inicializar la red neuronal y crera la capa de convolucion\n",
    "model=Sequential()\n",
    "model.add(Conv2D(filters=32,kernel_size=(4,4),input_shape=(28,28,1),activation=\"relu\"))"
   ]
  },
  {
   "cell_type": "code",
   "execution_count": 93,
   "metadata": {},
   "outputs": [],
   "source": [
    "#Capa de maxpooling\n",
    "model.add(MaxPool2D(pool_size=(2,2)))"
   ]
  },
  {
   "cell_type": "code",
   "execution_count": 94,
   "metadata": {},
   "outputs": [],
   "source": [
    "#Flattening\n",
    "model.add(Flatten())"
   ]
  },
  {
   "cell_type": "code",
   "execution_count": 95,
   "metadata": {},
   "outputs": [],
   "source": [
    "#Capa oculta\n",
    "model.add(Dense(128,activation=\"relu\"))"
   ]
  },
  {
   "cell_type": "code",
   "execution_count": 96,
   "metadata": {},
   "outputs": [],
   "source": [
    "#Capa de salida\n",
    "model.add(Dense(10,activation=\"softmax\"))"
   ]
  },
  {
   "cell_type": "code",
   "execution_count": 97,
   "metadata": {},
   "outputs": [],
   "source": [
    "#Compilacion del modelo\n",
    "model.compile(loss='categorical_crossentropy',\n",
    "             optimizer='rmsprop',\n",
    "             metrics=['accuracy'])"
   ]
  },
  {
   "cell_type": "code",
   "execution_count": 98,
   "metadata": {},
   "outputs": [
    {
     "name": "stdout",
     "output_type": "stream",
     "text": [
      "Model: \"sequential_3\"\n",
      "_________________________________________________________________\n",
      "Layer (type)                 Output Shape              Param #   \n",
      "=================================================================\n",
      "conv2d_2 (Conv2D)            (None, 25, 25, 32)        544       \n",
      "_________________________________________________________________\n",
      "max_pooling2d_2 (MaxPooling2 (None, 12, 12, 32)        0         \n",
      "_________________________________________________________________\n",
      "flatten_1 (Flatten)          (None, 4608)              0         \n",
      "_________________________________________________________________\n",
      "dense_4 (Dense)              (None, 128)               589952    \n",
      "_________________________________________________________________\n",
      "dense_5 (Dense)              (None, 10)                1290      \n",
      "=================================================================\n",
      "Total params: 591,786\n",
      "Trainable params: 591,786\n",
      "Non-trainable params: 0\n",
      "_________________________________________________________________\n"
     ]
    }
   ],
   "source": [
    "#Resumen de la configuracion de la RNC\n",
    "model.summary()"
   ]
  },
  {
   "cell_type": "markdown",
   "metadata": {},
   "source": [
    "### Entrenando el Modelo\n",
    "**TAREA 6: Entrenar / Ajustar el modelo al conjunto x_train. La cantidad de épocas sera de 20**"
   ]
  },
  {
   "cell_type": "code",
   "execution_count": 99,
   "metadata": {},
   "outputs": [
    {
     "name": "stdout",
     "output_type": "stream",
     "text": [
      "Epoch 1/20\n",
      "1875/1875 [==============================] - 28s 15ms/step - loss: 0.3954 - accuracy: 0.85940s - loss: 0.3\n",
      "Epoch 2/20\n",
      "1875/1875 [==============================] - 29s 15ms/step - loss: 0.2753 - accuracy: 0.9009\n",
      "Epoch 3/20\n",
      "1875/1875 [==============================] - 30s 16ms/step - loss: 0.2398 - accuracy: 0.9136\n",
      "Epoch 4/20\n",
      "1875/1875 [==============================] - 30s 16ms/step - loss: 0.2136 - accuracy: 0.9231\n",
      "Epoch 5/20\n",
      "1875/1875 [==============================] - 31s 16ms/step - loss: 0.1958 - accuracy: 0.9294\n",
      "Epoch 6/20\n",
      "1875/1875 [==============================] - 30s 16ms/step - loss: 0.1811 - accuracy: 0.9351\n",
      "Epoch 7/20\n",
      "1875/1875 [==============================] - 31s 16ms/step - loss: 0.1688 - accuracy: 0.9402\n",
      "Epoch 8/20\n",
      "1875/1875 [==============================] - 34s 18ms/step - loss: 0.1560 - accuracy: 0.9450\n",
      "Epoch 9/20\n",
      "1875/1875 [==============================] - 33s 17ms/step - loss: 0.1462 - accuracy: 0.9490\n",
      "Epoch 10/20\n",
      "1875/1875 [==============================] - 33s 17ms/step - loss: 0.1366 - accuracy: 0.9526\n",
      "Epoch 11/20\n",
      "1875/1875 [==============================] - 31s 17ms/step - loss: 0.1287 - accuracy: 0.9546\n",
      "Epoch 12/20\n",
      "1875/1875 [==============================] - 33s 18ms/step - loss: 0.1214 - accuracy: 0.9587\n",
      "Epoch 13/20\n",
      "1875/1875 [==============================] - 29s 15ms/step - loss: 0.1150 - accuracy: 0.9604\n",
      "Epoch 14/20\n",
      "1875/1875 [==============================] - 35s 19ms/step - loss: 0.1095 - accuracy: 0.9630\n",
      "Epoch 15/20\n",
      "1875/1875 [==============================] - 32s 17ms/step - loss: 0.1029 - accuracy: 0.9646\n",
      "Epoch 16/20\n",
      "1875/1875 [==============================] - 29s 16ms/step - loss: 0.0970 - accuracy: 0.96680s - loss: 0.0\n",
      "Epoch 17/20\n",
      "1875/1875 [==============================] - 31s 16ms/step - loss: 0.0925 - accuracy: 0.9682\n",
      "Epoch 18/20\n",
      "1875/1875 [==============================] - 32s 17ms/step - loss: 0.0878 - accuracy: 0.9701\n",
      "Epoch 19/20\n",
      "1875/1875 [==============================] - 33s 18ms/step - loss: 0.0831 - accuracy: 0.97120s - loss: 0.0834 - accura\n",
      "Epoch 20/20\n",
      "1875/1875 [==============================] - 33s 18ms/step - loss: 0.0806 - accuracy: 0.9728\n"
     ]
    },
    {
     "data": {
      "text/plain": [
       "<tensorflow.python.keras.callbacks.History at 0x1abcb6a9d60>"
      ]
     },
     "execution_count": 99,
     "metadata": {},
     "output_type": "execute_result"
    }
   ],
   "source": [
    "model.fit(x_train,y_cat_train,epochs=20)"
   ]
  },
  {
   "cell_type": "markdown",
   "metadata": {},
   "source": [
    "### Evaluando el Modelo\n",
    "\n",
    "**TAREA 7: Muestra la precisión, recuperación, puntaje f1 que alcanzó el modelo en el conjunto de datos x_test. Ten en cuenta que hay varias maneras de hacerlo, pero te recomiendo seguir el mismo procedimiento que hicimos en el ejercicio anterior de MNIST.**"
   ]
  },
  {
   "cell_type": "code",
   "execution_count": 100,
   "metadata": {},
   "outputs": [
    {
     "data": {
      "text/plain": [
       "['loss', 'accuracy']"
      ]
     },
     "execution_count": 100,
     "metadata": {},
     "output_type": "execute_result"
    }
   ],
   "source": [
    "model.metrics_names"
   ]
  },
  {
   "cell_type": "code",
   "execution_count": 101,
   "metadata": {},
   "outputs": [
    {
     "name": "stdout",
     "output_type": "stream",
     "text": [
      "313/313 [==============================] - 1s 4ms/step - loss: 0.4922 - accuracy: 0.9038\n"
     ]
    },
    {
     "data": {
      "text/plain": [
       "[0.492247074842453, 0.9038000106811523]"
      ]
     },
     "execution_count": 101,
     "metadata": {},
     "output_type": "execute_result"
    }
   ],
   "source": [
    "#Evaluacion del modelo\n",
    "model.evaluate(x_test,y_cat_test)"
   ]
  },
  {
   "cell_type": "code",
   "execution_count": 102,
   "metadata": {},
   "outputs": [],
   "source": [
    "#importacion del modulo reportes de clasificacion\n",
    "from sklearn.metrics import classification_report"
   ]
  },
  {
   "cell_type": "code",
   "execution_count": 103,
   "metadata": {},
   "outputs": [
    {
     "name": "stdout",
     "output_type": "stream",
     "text": [
      "WARNING:tensorflow:From <ipython-input-103-aca458457415>:2: Sequential.predict_classes (from tensorflow.python.keras.engine.sequential) is deprecated and will be removed after 2021-01-01.\n",
      "Instructions for updating:\n",
      "Please use instead:* `np.argmax(model.predict(x), axis=-1)`,   if your model does multi-class classification   (e.g. if it uses a `softmax` last-layer activation).* `(model.predict(x) > 0.5).astype(\"int32\")`,   if your model does binary classification   (e.g. if it uses a `sigmoid` last-layer activation).\n"
     ]
    }
   ],
   "source": [
    "#Prediccion a nivel de clases\n",
    "predictions = model.predict_classes(x_test)"
   ]
  },
  {
   "cell_type": "code",
   "execution_count": 104,
   "metadata": {},
   "outputs": [
    {
     "data": {
      "text/plain": [
       "(10000, 10)"
      ]
     },
     "execution_count": 104,
     "metadata": {},
     "output_type": "execute_result"
    }
   ],
   "source": [
    "y_cat_test.shape"
   ]
  },
  {
   "cell_type": "code",
   "execution_count": 107,
   "metadata": {},
   "outputs": [
    {
     "data": {
      "text/plain": [
       "array([0., 0., 0., 0., 1., 0., 0., 0., 0., 0.], dtype=float32)"
      ]
     },
     "execution_count": 107,
     "metadata": {},
     "output_type": "execute_result"
    }
   ],
   "source": [
    "#Mostra el valor de la imagen que se encuentra en la posicion 10. La posicion 4 se encuentra activado.\n",
    "y_cat_test[10]"
   ]
  },
  {
   "cell_type": "code",
   "execution_count": 108,
   "metadata": {},
   "outputs": [
    {
     "data": {
      "text/plain": [
       "4"
      ]
     },
     "execution_count": 108,
     "metadata": {},
     "output_type": "execute_result"
    }
   ],
   "source": [
    "#Mostrar la prediccion para la imagen 10. La prediccion y el valor de y_cat_test coinciden.\n",
    "predictions[10]"
   ]
  },
  {
   "cell_type": "code",
   "execution_count": 109,
   "metadata": {},
   "outputs": [
    {
     "data": {
      "text/plain": [
       "array([9, 2, 1, ..., 8, 1, 5], dtype=uint8)"
      ]
     },
     "execution_count": 109,
     "metadata": {},
     "output_type": "execute_result"
    }
   ],
   "source": [
    "y_test"
   ]
  },
  {
   "cell_type": "code",
   "execution_count": 110,
   "metadata": {},
   "outputs": [
    {
     "name": "stdout",
     "output_type": "stream",
     "text": [
      "              precision    recall  f1-score   support\n",
      "\n",
      "           0       0.87      0.82      0.85      1000\n",
      "           1       0.99      0.97      0.98      1000\n",
      "           2       0.84      0.86      0.85      1000\n",
      "           3       0.89      0.93      0.91      1000\n",
      "           4       0.87      0.83      0.85      1000\n",
      "           5       0.98      0.96      0.97      1000\n",
      "           6       0.72      0.76      0.74      1000\n",
      "           7       0.94      0.98      0.96      1000\n",
      "           8       0.98      0.97      0.98      1000\n",
      "           9       0.97      0.95      0.96      1000\n",
      "\n",
      "    accuracy                           0.90     10000\n",
      "   macro avg       0.91      0.90      0.90     10000\n",
      "weighted avg       0.91      0.90      0.90     10000\n",
      "\n"
     ]
    }
   ],
   "source": [
    "#Reporte de presicion\n",
    "print(classification_report(y_test, predictions))"
   ]
  }
 ],
 "metadata": {
  "kernelspec": {
   "display_name": "Python 3",
   "language": "python",
   "name": "python3"
  },
  "language_info": {
   "codemirror_mode": {
    "name": "ipython",
    "version": 3
   },
   "file_extension": ".py",
   "mimetype": "text/x-python",
   "name": "python",
   "nbconvert_exporter": "python",
   "pygments_lexer": "ipython3",
   "version": "3.8.3"
  }
 },
 "nbformat": 4,
 "nbformat_minor": 2
}
